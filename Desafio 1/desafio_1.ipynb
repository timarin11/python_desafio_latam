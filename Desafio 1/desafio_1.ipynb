{
 "cells": [
  {
   "cell_type": "markdown",
   "id": "58c50619-3298-4f68-87f8-925fdb19ef00",
   "metadata": {},
   "source": [
    "# Desafío - Conociendo Python (Parte I)\n"
   ]
  },
  {
   "cell_type": "markdown",
   "id": "1660821a-ebc0-41be-8fda-ae2ca72155be",
   "metadata": {},
   "source": [
    "## Calculando el salario semanal\n",
    "Un vendedor gana un salario base de $500 más una comisión del 10% sobre sus\n",
    "ventas totales. Escribe un programa donde se pueda ingresar el monto de las ventas\n",
    "totales del vendedor y calcule su salario total.\n"
   ]
  },
  {
   "cell_type": "code",
   "execution_count": 2,
   "id": "d416d8c1-8198-4b66-8a48-b5130ca64b08",
   "metadata": {},
   "outputs": [
    {
     "name": "stdin",
     "output_type": "stream",
     "text": [
      "Ingrese monto total de ventas:  500\n"
     ]
    },
    {
     "name": "stdout",
     "output_type": "stream",
     "text": [
      "Su salario total es de: $550.0\n"
     ]
    }
   ],
   "source": [
    "sueldo_base = 500\n",
    "monto_ventas = int(input(\"Ingrese monto total de ventas: \"))\n",
    "if monto_ventas >=1 :\n",
    "    print('Su salario total es de: $' + str(monto_ventas*0.1 + 500))\n",
    "else:\n",
    "    print('Su salario total es de: $' + str(sueldo_base))"
   ]
  },
  {
   "cell_type": "markdown",
   "id": "00a37ea9-a2a9-4813-b4f2-1962fc4daddd",
   "metadata": {},
   "source": [
    "## 2. Bienvenido a la frutería virtual\n",
    "En este ejercicio, vamos a crear un diccionario vacío llamado catalogo_frutas {'fruta':\n",
    "precio} y agregar algunas frutas con sus precios. Luego, le pediremos al usuario que\n",
    "ingrese el nombre de una fruta y verificaremos si esa fruta está en el diccionario. Si\n",
    "la fruta está en el diccionario, mostraremos el precio al usuario. Si la fruta no está en\n",
    "el diccionario, le diremos al usuario que no se encuentra esa fruta en nuestra tienda."
   ]
  },
  {
   "cell_type": "code",
   "execution_count": 4,
   "id": "6a15b52d-89ff-43b7-8b7c-27f51b73dd53",
   "metadata": {},
   "outputs": [],
   "source": [
    "# Creamos diccionario vacío\n",
    "catalogo_frutas =  {} # Este diccionario se llenará de esta manera {'fruta': precio}"
   ]
  },
  {
   "cell_type": "code",
   "execution_count": 5,
   "id": "aea0fa2f-41b8-4688-87fc-a7e238f9b577",
   "metadata": {},
   "outputs": [],
   "source": [
    "# Agregamos frutas al diccionario \n",
    "catalogo_frutas['mango'] = 3500\n",
    "catalogo_frutas['piña'] = 2000\n",
    "catalogo_frutas['guayaba'] = 1200"
   ]
  },
  {
   "cell_type": "code",
   "execution_count": 6,
   "id": "af76a248-03ab-45b0-9079-82f3938d6bf3",
   "metadata": {},
   "outputs": [
    {
     "name": "stdout",
     "output_type": "stream",
     "text": [
      "3500\n"
     ]
    }
   ],
   "source": [
    "print(catalogo_frutas['mango']) # Probamos si funciona ok"
   ]
  },
  {
   "cell_type": "code",
   "execution_count": 15,
   "id": "b28a5f04-7eb9-4e9b-be35-c48905f4d3d8",
   "metadata": {},
   "outputs": [
    {
     "name": "stdin",
     "output_type": "stream",
     "text": [
      "Ingrese el nombre de una fruta para conocer su precio:  pera\n"
     ]
    },
    {
     "name": "stdout",
     "output_type": "stream",
     "text": [
      "Esa fruta no ese encuentra en nuestra tienda\n"
     ]
    }
   ],
   "source": [
    "fruta_solicitada = str(input(\"Ingrese el nombre de una fruta para conocer su precio: \"))\n",
    "if fruta_solicitada in catalogo_frutas:\n",
    "    print('El precio del', fruta_solicitada,(catalogo_frutas[fruta_solicitada]))\n",
    "else:\n",
    "    print('Esa fruta no ese encuentra en nuestra tienda')\n",
    "    \n",
    "    "
   ]
  },
  {
   "cell_type": "markdown",
   "id": "dfb36283-65c1-4e08-b82b-5db9795fa3b8",
   "metadata": {},
   "source": [
    "## 3. Bienvenido al casino\n",
    "En este juego, tienes que lanzar dos dados y el programa mostrará los valores\n",
    "obtenidos en cada dado y la suma de ambos valores. Debes generar dos números\n",
    "aleatorios entre 1 y 6 que representan los valores obtenidos en cada dado usando la\n",
    "librería random. Luego, el programa debe mostrar los valores obtenidos en cada\n",
    "dado y la suma de ambos valores en la pantalla."
   ]
  },
  {
   "cell_type": "code",
   "execution_count": 20,
   "id": "2d581de5-69eb-4a43-9c6b-c85efcdfaab0",
   "metadata": {},
   "outputs": [],
   "source": [
    "import random # importamos la libreria de random para generar numeros aleatorios"
   ]
  },
  {
   "cell_type": "code",
   "execution_count": 80,
   "id": "437a689b-5b16-4680-886b-99ab58c9455e",
   "metadata": {},
   "outputs": [
    {
     "name": "stdin",
     "output_type": "stream",
     "text": [
      "Quieres jugar a los dados? (si / no) si\n"
     ]
    },
    {
     "name": "stdout",
     "output_type": "stream",
     "text": [
      "Dado N°1: 1 Dado N°2: 1\n",
      "La suma de ambos dados es: 2\n"
     ]
    }
   ],
   "source": [
    "#quise poner un boton de jugar, pero no era tan facil. Esta opcion es algo mas interactiva\n",
    "jugar = str(input(\"Quieres jugar a los dados? (si / no)\"))\n",
    "\n",
    "if jugar == ('si'):\n",
    "    # Creamos dos variables con numeros aleatorios a partir de una lista de 6 numeros (tambien podría ser con randomint)\n",
    "    dado1 = random.choice([1, 2, 3, 4, 5, 6])\n",
    "    dado2 = random.choice([1, 2, 3, 4, 5, 6])\n",
    "\n",
    "    # Mostramos los resultados de ambos y la suma de ambos\n",
    "    print('Dado N°1:', dado1, 'Dado N°2:', dado2)\n",
    "    print('La suma de ambos dados es:', dado1 + dado2)\n",
    "\n",
    "else:\n",
    "    print('Que lástima')"
   ]
  },
  {
   "cell_type": "markdown",
   "id": "d46dac1f-0bf6-4842-bb5d-7ade503461f7",
   "metadata": {},
   "source": [
    "## 4.Calculadora de chocolate\n",
    "\n",
    "Crea un programa que calcule la cantidad de chocolate que puedes comer sin\n",
    "pasarte de tu límite diario de calorías. El programa debe preguntar al usuario su\n",
    "límite diario de calorías y la cantidad de calorías que tiene una porción de chocolate.\n",
    "Luego, debe calcular la cantidad máxima de chocolate que se puede comer sin\n",
    "exceder el límite diario de calorías y mostrarla en pantalla."
   ]
  },
  {
   "cell_type": "code",
   "execution_count": 70,
   "id": "25e5ee29-73c7-4c83-802b-9ca10ffe124b",
   "metadata": {},
   "outputs": [
    {
     "name": "stdin",
     "output_type": "stream",
     "text": [
      "Ingresa tu límite diario de calorías:  2000\n",
      "Calorías por porción de chocolate:  345\n"
     ]
    },
    {
     "name": "stdout",
     "output_type": "stream",
     "text": [
      "Puedes comer hasta 5.797101449275362 porciones de ese chocolate sin pasarte del límite.\n"
     ]
    }
   ],
   "source": [
    "# Creamos los dos variables a partir de los imputs para ingresar el limite diario y las calorias del chocolate\n",
    "limite_diario = int(input(\"Ingresa tu límite diario de calorías: \"))\n",
    "calorias_porcion = int(input(\"Calorías por porción de chocolate: \"))\n",
    "\n",
    "# definimos las porciones a partir del limite definido dividido por las porciones\n",
    "porciones = limite_diario / calorias_porcion\n",
    "\n",
    "print(f\"Puedes comer hasta {porciones} porciones de ese chocolate sin pasarte del límite.\")\n"
   ]
  },
  {
   "cell_type": "code",
   "execution_count": null,
   "id": "5824da58-cee6-4490-bdcb-2f64056e4ed7",
   "metadata": {},
   "outputs": [],
   "source": []
  }
 ],
 "metadata": {
  "kernelspec": {
   "display_name": "Python 3 (ipykernel)",
   "language": "python",
   "name": "python3"
  },
  "language_info": {
   "codemirror_mode": {
    "name": "ipython",
    "version": 3
   },
   "file_extension": ".py",
   "mimetype": "text/x-python",
   "name": "python",
   "nbconvert_exporter": "python",
   "pygments_lexer": "ipython3",
   "version": "3.12.7"
  }
 },
 "nbformat": 4,
 "nbformat_minor": 5
}
