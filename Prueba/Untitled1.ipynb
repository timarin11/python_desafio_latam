{
 "cells": [
  {
   "cell_type": "code",
   "execution_count": null,
   "id": "8254f2a8-1b21-4e98-83e3-d34fc289f7a8",
   "metadata": {},
   "outputs": [],
   "source": []
  }
 ],
 "metadata": {
  "kernelspec": {
   "display_name": "",
   "name": ""
  },
  "language_info": {
   "name": ""
  }
 },
 "nbformat": 4,
 "nbformat_minor": 5
}
