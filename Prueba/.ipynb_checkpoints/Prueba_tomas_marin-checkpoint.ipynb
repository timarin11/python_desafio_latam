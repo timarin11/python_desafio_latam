{
 "cells": [
  {
   "cell_type": "markdown",
   "id": "d6ed9f4c-78ed-40f3-8489-fa7a8d8f4b42",
   "metadata": {},
   "source": [
    "# Prueba - Python para el análisis de datos\n",
    "## Tomás Marín"
   ]
  },
  {
   "cell_type": "markdown",
   "id": "f5da20c5-2020-4bd8-a41b-185a43196786",
   "metadata": {},
   "source": [
    "En esta prueba validaremos nuestros conocimientos sobre Python. Para lograrlo,\n",
    "necesitarás aplicar lo aprendido en las unidades anteriores.\n",
    "Lee todo el documento antes de comenzar el desarrollo individual, para asegurarte de tener\n",
    "el máximo de puntaje y enfocar bien los esfuerzos.\n"
   ]
  },
  {
   "cell_type": "markdown",
   "id": "ecd4b73d-426d-4018-aef5-04f95d0231b6",
   "metadata": {},
   "source": [
    "Prerrequisitos\n",
    "1. Para realizar lo solicitado debes crear la base de datos classicmodels en tu motor PostgreSQL. Para esto, abre una ventana de terminal y ejecuta la siguiente instrucción:\n",
    "   psql -h localhost -p 5432 -U postgres -c \"CREATE DATABASE classicmodels;\"\n",
    "2. Una vez creada la base de datos, debes importar el archivo classicmodels.sql a esta\n",
    "base de datos.\n",
    "   psql -h localhost -p 5432 -U postgres -d classicmodels -f classicmodels.sql\n",
    "\n"
   ]
  },
  {
   "cell_type": "markdown",
   "id": "437e2573-af39-4d8c-8347-0f89ba18ca63",
   "metadata": {},
   "source": [
    " Abrir CMD en sistema\n",
    " \n",
    " psql -h localhost -p 5432 -U postgres -c \"CREATE DATABASE classicmodels;\"\n",
    " Definir ruta del archivo\n",
    "- cd C:\\Users\\Legion\\Documents\\desafio_latam\\Python\\Prueba\n",
    "\n",
    "Conectarde a la base classicmodels\n",
    "- C:\\Users\\Legion\\Documents\\desafio_latam\\Python\\Prueba>psql -h localhost -U postgres -d classicmodels\n",
    "\n",
    "Importar el archivo dentro de SQL\n",
    "- classicmodels=# \\i 'classicmodels.sql'\n",
    "\n",
    "Comprobar que este todo ok:\n",
    "- classicmodels=# \\dt *.* \n"
   ]
  },
  {
   "cell_type": "markdown",
   "id": "b7fe47fb-3163-4d8a-9d2f-6d5bfc128572",
   "metadata": {},
   "source": [
    "## Descripción\n",
    "El área comercial de una empresa pide realizar un cierre de año de las ventas, tanto para\n",
    "revisar si las metas fueron cumplidas, como para poder planificar el siguiente año. Para ello,\n",
    "considerarán los datos del dataset classicmodels.sql para responder algunas preguntas,\n",
    "realizando las siguientes tareas."
   ]
  },
  {
   "cell_type": "markdown",
   "id": "a6416c92-659a-4db2-88df-a4c83b213982",
   "metadata": {},
   "source": [
    "1. Genera una función llamada leer_tabla(tabla, engine) y utilízala para leer tablas\n",
    "completas desde la base de datos en dataframes independientes. Utilizando esta\n",
    "función, importa las siguientes tablas:\n",
    "- order\n",
    "- orderdetails\n",
    "- customers\n",
    "- products\n",
    "- employees"
   ]
  },
  {
   "cell_type": "code",
   "execution_count": 7,
   "id": "2e0a4ab2-7d32-4236-aa45-b6e6b9eee990",
   "metadata": {},
   "outputs": [],
   "source": [
    "import pandas as pd\n",
    "import sqlalchemy\n",
    "import psycopg2"
   ]
  },
  {
   "cell_type": "code",
   "execution_count": 8,
   "id": "cf259280-acec-49b9-a91a-d9271355e76d",
   "metadata": {},
   "outputs": [],
   "source": [
    "from sqlalchemy import create_engine\n",
    "\n",
    "#Completar los datos necesarios para conectar la database de postgres\n",
    "usuario = \"postgres\"\n",
    "contraseña = \"postgres\"  \n",
    "host = \"localhost\"\n",
    "puerto = \"5432\"\n",
    "base_datos = \"classicmodels\"\n",
    "\n",
    "# Crear el engine de conexión\n",
    "engine = create_engine(f\"postgresql://{usuario}:{contraseña}@{host}:{puerto}/{base_datos}\")\n",
    "\n"
   ]
  },
  {
   "cell_type": "code",
   "execution_count": 9,
   "id": "9b306ea3-7000-47ca-8044-62a5e29fd24b",
   "metadata": {},
   "outputs": [],
   "source": [
    "def leer_tabla(tabla, engine):\n",
    "    \"\"\"\n",
    "    Lee una tabla completa desde PostgreSQL y la devuelve como DataFrame de pandas.\n",
    "    \"\"\"\n",
    "    query = f\"SELECT * FROM {tabla};\"\n",
    "    return pd.read_sql(query, engine)\n"
   ]
  },
  {
   "cell_type": "code",
   "execution_count": 10,
   "id": "0adfa69a-890f-47f7-bdcb-073d95132b1d",
   "metadata": {},
   "outputs": [],
   "source": [
    "orders = leer_tabla('orders', engine)\n",
    "orderdetails = leer_tabla('orderdetails', engine)\n",
    "customers = leer_tabla('customers', engine)\n",
    "products = leer_tabla('products', engine)\n",
    "employees = leer_tabla('employees', engine)\n"
   ]
  },
  {
   "cell_type": "markdown",
   "id": "a4372821-d20a-4d05-8c73-2a35e806f943",
   "metadata": {},
   "source": [
    "2. Realiza el cruce entre los DataFrames, asegurándote de utilizar correctamente el\n",
    "parámetro validate para asegurar la integridad referencial\n",
    "\n"
   ]
  },
  {
   "cell_type": "code",
   "execution_count": 12,
   "id": "2a4cf691-7ed7-49b7-8b4c-2294cb45edcc",
   "metadata": {
    "scrolled": true
   },
   "outputs": [
    {
     "name": "stdout",
     "output_type": "stream",
     "text": [
      "La columna comun es: {'customerNumber'}\n",
      "La columna comun es: {'orderNumber'}\n",
      "La columna comun es: {'productCode'}\n",
      "La columna comun es: set()\n"
     ]
    }
   ],
   "source": [
    "# \"Orders es la hoja principal que posee informacion vinculada a las otras pestañas\n",
    "# Identificar la columna  en comun con todos los dataframes para unirlas\n",
    "common_columns = set(orders.columns) & set(customers.columns) #Interseccion de nombres de columnas en un set\n",
    "print(\"La columna comun es:\", common_columns)\n",
    "\n",
    "common_columns = set(orders.columns) & set(orderdetails.columns) #Interseccion de nombres de columnas en un set\n",
    "print(\"La columna comun es:\", common_columns)\n",
    "\n",
    "common_columns = set(products.columns) & set(orderdetails.columns) #Interseccion de nombres de columnas en un set\n",
    "print(\"La columna comun es:\", common_columns)\n",
    "\n",
    "common_columns = set(employees.columns) & set(products.columns) #Interseccion de nombres de columnas en un set\n",
    "print(\"La columna comun es:\", common_columns)"
   ]
  },
  {
   "cell_type": "markdown",
   "id": "7425adb0-97f6-4338-9e0b-c7fe0a7dd26e",
   "metadata": {},
   "source": [
    "Al indagar en los nombres de las columnas de cada df se obtiene el nexo sobre el cual realizar el cruce de las tablas\n",
    "\n",
    "customers > order > (customerNumber)\\\n",
    "orders -> orderdetails (orderNumber)\\\n",
    "orderdetails -> products (productCode)\\\n",
    "\n",
    "Pero employees no tiene columna común con ningun otro dataframe. Por eso se buscó individualmente algun campo similar a 'employeeNumber' y se encontró 'salesRepEmployeeNumber' en el df de customers. "
   ]
  },
  {
   "cell_type": "code",
   "execution_count": 14,
   "id": "cd79803f-9a92-41e3-8400-63320971761a",
   "metadata": {},
   "outputs": [],
   "source": [
    "df_completo = customers.merge(\n",
    "orders, on=\"customerNumber\", how=\"inner\", validate=\"1:m\" # Un cliente puede hacer muchos pedidos\n",
    ").merge(\n",
    "orderdetails, on=\"orderNumber\", how=\"inner\", validate=\"1:m\" # Una orden tiene muchos detalles o productos asociados\n",
    ").merge(\n",
    "products, on=\"productCode\", how=\"inner\", validate=\"m:1\" # Se pueden hacer muchas compras de un producto único\n",
    ").merge(\n",
    "employees, left_on=\"salesRepEmployeeNumber\", right_on=\"employeeNumber\", how=\"left\", validate=\"m:1\" # Muchos clientes o fueron atendidos por un empleado\n",
    ")"
   ]
  },
  {
   "cell_type": "markdown",
   "id": "0348e23c-f47f-407f-a4b2-8de22387819c",
   "metadata": {},
   "source": [
    "3. Agrega las siguientes columnas, considerando su nombre y la fórmula asociada\n",
    "- venta: quantityOrdered*priceEach\n",
    "- costo: quantityOrdered*buyPrice\n",
    "- ganancia: considerando las columnas anteriores\n"
   ]
  },
  {
   "cell_type": "code",
   "execution_count": 16,
   "id": "d8db4cda-d31d-442e-b065-31d37d1095d6",
   "metadata": {},
   "outputs": [],
   "source": [
    "# Crear nuevos campos a partir de forulas proporcionadas\n",
    "df_completo[\"venta\"] = df_completo[\"quantityOrdered\"] * df_completo[\"priceEach\"]\n",
    "df_completo[\"costo\"] = df_completo[\"quantityOrdered\"] * df_completo[\"buyPrice\"]\n",
    "df_completo[\"ganancia\"] = df_completo[\"venta\"] - df_completo[\"costo\"]"
   ]
  },
  {
   "cell_type": "markdown",
   "id": "a1c07b10-45fa-449d-9288-5591613a0178",
   "metadata": {},
   "source": [
    "4. ¿Cuál fue el total de ventas por línea de productos? Incluye una fila de totales."
   ]
  },
  {
   "cell_type": "code",
   "execution_count": 18,
   "id": "44e4bb42-5894-425a-aae2-e623fd773e6c",
   "metadata": {},
   "outputs": [
    {
     "name": "stdout",
     "output_type": "stream",
     "text": [
      "Ventas totales por líneas de productos:\n",
      "                       venta\n",
      "productLine                 \n",
      "Classic Cars      3853922.49\n",
      "Motorcycles       1121426.12\n",
      "Planes             954637.54\n",
      "Ships              663998.34\n",
      "Trains             188532.92\n",
      "Trucks and Buses  1024113.57\n",
      "Vintage Cars      1797559.63\n",
      "Total_ventas      9604190.61\n"
     ]
    }
   ],
   "source": [
    "# Crear una tabla pivote con la funcion de suma de las ventas\n",
    "pivot_ventas_por_linea = pd.pivot_table(\n",
    "    df_completo,\n",
    "    index=\"productLine\",   # Agrupar por valores unicos          \n",
    "    values=\"venta\",        # valores a sumar   \n",
    "    aggfunc=\"sum\",    \n",
    "    margins=True,       #crear nuevo campo de totales\n",
    "    margins_name=\"Total_ventas\" #nombre de nuevo campo\n",
    ")\n",
    "\n",
    "print(\"Ventas totales por líneas de productos:\")\n",
    "print(pivot_ventas_por_linea)\n"
   ]
  },
  {
   "cell_type": "markdown",
   "id": "bb30843b-a5b9-41b5-8ead-f0ef9b9a680f",
   "metadata": {},
   "source": [
    "5. ¿Cuántos clientes distintos hicieron compras?"
   ]
  },
  {
   "cell_type": "code",
   "execution_count": 20,
   "id": "27db9b42-56d0-4add-9fc8-df75e47ab699",
   "metadata": {},
   "outputs": [
    {
     "name": "stdout",
     "output_type": "stream",
     "text": [
      "Número de clientes distintos que hicieron compras: 98\n"
     ]
    }
   ],
   "source": [
    "# df_completo solo posee datos de los clientes que realizaron compras\n",
    "# Contar valores unicos de clientes que realizaron compras\n",
    "clientes_distintos = df_completo[\"customerNumber\"].nunique()\n",
    "print(\"Número de clientes distintos que hicieron compras:\", clientes_distintos)\n"
   ]
  },
  {
   "cell_type": "markdown",
   "id": "69027e9f-229c-47d7-84f4-92a470e4ecc2",
   "metadata": {},
   "source": [
    "6. ¿Existen clientes que aún no han hecho ninguna compra? ¿Cuántos son?\n"
   ]
  },
  {
   "cell_type": "code",
   "execution_count": 22,
   "id": "ed39c467-ad82-4fcd-ac16-83544c8c98e4",
   "metadata": {},
   "outputs": [
    {
     "name": "stdout",
     "output_type": "stream",
     "text": [
      "Número de clientes que no han hecho compras: 24\n"
     ]
    }
   ],
   "source": [
    "clientes_totales = len(customers[\"customerNumber\"]) #Total de clientes registrados\n",
    "clientes_sin_compra = clientes_totales - clientes_distintos # Total de clientes menos los que han realizado compras\n",
    "print(\"Número de clientes que no han hecho compras:\", clientes_sin_compra)"
   ]
  },
  {
   "cell_type": "markdown",
   "id": "94dd292c-ec1a-4eaf-92eb-fb5fba4e7385",
   "metadata": {},
   "source": [
    "7. Se solicita la creación de dos reportes, que respondan las preguntas dadas\n",
    "\n",
    "● ¿Cuáles fueron los 10 clientes que reportan mayores ventas brutas en dinero durante\n",
    "el año 2005? Genera un DataFrame y guárdalo en una tabla de Postgre llamada\n",
    "top_10_clientes_2005, en la que se especifique el nombre del cliente y su\n",
    "correspondiente venta, costo y ganancia.\n",
    "\n",
    "● ¿Cuál fue el top 10 de artículos más vendidos durante el año 2005? Genera un\n",
    "DataFrame y guárdalo en una tabla de Postgre llamada top_10_productos_2005, en la\n",
    "que se especifique el nombre del producto y su correspondiente venta, costo y\n",
    "ganancia\n"
   ]
  },
  {
   "cell_type": "code",
   "execution_count": 24,
   "id": "a544c9df-4389-4e8e-83e5-72fcbe9534a3",
   "metadata": {
    "scrolled": true
   },
   "outputs": [
    {
     "name": "stdout",
     "output_type": "stream",
     "text": [
      "<class 'pandas.core.frame.DataFrame'>\n",
      "RangeIndex: 2996 entries, 0 to 2995\n",
      "Data columns (total 42 columns):\n",
      " #   Column                  Non-Null Count  Dtype  \n",
      "---  ------                  --------------  -----  \n",
      " 0   customerNumber          2996 non-null   int64  \n",
      " 1   customerName            2996 non-null   object \n",
      " 2   contactLastName         2996 non-null   object \n",
      " 3   contactFirstName        2996 non-null   object \n",
      " 4   phone                   2996 non-null   object \n",
      " 5   addressLine1            2996 non-null   object \n",
      " 6   addressLine2            592 non-null    object \n",
      " 7   city                    2996 non-null   object \n",
      " 8   state                   1337 non-null   object \n",
      " 9   postalCode              2823 non-null   object \n",
      " 10  country                 2996 non-null   object \n",
      " 11  salesRepEmployeeNumber  2996 non-null   float64\n",
      " 12  creditLimit             2996 non-null   float64\n",
      " 13  orderNumber             2996 non-null   int64  \n",
      " 14  orderDate               2996 non-null   object \n",
      " 15  requiredDate            2996 non-null   object \n",
      " 16  shippedDate             2855 non-null   object \n",
      " 17  status                  2996 non-null   object \n",
      " 18  comments                758 non-null    object \n",
      " 19  productCode             2996 non-null   object \n",
      " 20  quantityOrdered         2996 non-null   int64  \n",
      " 21  priceEach               2996 non-null   float64\n",
      " 22  orderLineNumber         2996 non-null   int64  \n",
      " 23  productName             2996 non-null   object \n",
      " 24  productLine             2996 non-null   object \n",
      " 25  productScale            2996 non-null   object \n",
      " 26  productVendor           2996 non-null   object \n",
      " 27  productDescription      2996 non-null   object \n",
      " 28  quantityInStock         2996 non-null   int64  \n",
      " 29  buyPrice                2996 non-null   float64\n",
      " 30  MSRP                    2996 non-null   float64\n",
      " 31  employeeNumber          2996 non-null   int64  \n",
      " 32  lastName                2996 non-null   object \n",
      " 33  firstName               2996 non-null   object \n",
      " 34  extension               2996 non-null   object \n",
      " 35  email                   2996 non-null   object \n",
      " 36  officeCode              2996 non-null   object \n",
      " 37  reportsTo               2996 non-null   float64\n",
      " 38  jobTitle                2996 non-null   object \n",
      " 39  venta                   2996 non-null   float64\n",
      " 40  costo                   2996 non-null   float64\n",
      " 41  ganancia                2996 non-null   float64\n",
      "dtypes: float64(9), int64(6), object(27)\n",
      "memory usage: 983.2+ KB\n"
     ]
    }
   ],
   "source": [
    "df_completo.info() #Identificar las columnas de interes"
   ]
  },
  {
   "cell_type": "code",
   "execution_count": 25,
   "id": "0bcafc08-6185-448a-a26a-3e64ee58a0e1",
   "metadata": {},
   "outputs": [],
   "source": [
    "from funciones import filtrar_por_fecha, generar_reporte, guardar_en_postgres\n"
   ]
  },
  {
   "cell_type": "markdown",
   "id": "a00a5b37-5559-4ab7-bc13-199e35948e9b",
   "metadata": {},
   "source": [
    "\n"
   ]
  },
  {
   "cell_type": "code",
   "execution_count": 27,
   "id": "d8bf51d0-4a88-4ac0-b829-19fe9e3ffae6",
   "metadata": {},
   "outputs": [
    {
     "data": {
      "text/html": [
       "<div>\n",
       "<style scoped>\n",
       "    .dataframe tbody tr th:only-of-type {\n",
       "        vertical-align: middle;\n",
       "    }\n",
       "\n",
       "    .dataframe tbody tr th {\n",
       "        vertical-align: top;\n",
       "    }\n",
       "\n",
       "    .dataframe thead th {\n",
       "        text-align: right;\n",
       "    }\n",
       "</style>\n",
       "<table border=\"1\" class=\"dataframe\">\n",
       "  <thead>\n",
       "    <tr style=\"text-align: right;\">\n",
       "      <th></th>\n",
       "      <th>customerNumber</th>\n",
       "      <th>customerName</th>\n",
       "      <th>contactLastName</th>\n",
       "      <th>contactFirstName</th>\n",
       "      <th>phone</th>\n",
       "      <th>addressLine1</th>\n",
       "      <th>addressLine2</th>\n",
       "      <th>city</th>\n",
       "      <th>state</th>\n",
       "      <th>postalCode</th>\n",
       "      <th>...</th>\n",
       "      <th>lastName</th>\n",
       "      <th>firstName</th>\n",
       "      <th>extension</th>\n",
       "      <th>email</th>\n",
       "      <th>officeCode</th>\n",
       "      <th>reportsTo</th>\n",
       "      <th>jobTitle</th>\n",
       "      <th>venta</th>\n",
       "      <th>costo</th>\n",
       "      <th>ganancia</th>\n",
       "    </tr>\n",
       "  </thead>\n",
       "  <tbody>\n",
       "    <tr>\n",
       "      <th>116</th>\n",
       "      <td>119</td>\n",
       "      <td>La Rochelle Gifts</td>\n",
       "      <td>Labrune</td>\n",
       "      <td>Janine</td>\n",
       "      <td>40.67.8555</td>\n",
       "      <td>67, rue des Cinquante Otages</td>\n",
       "      <td>None</td>\n",
       "      <td>Nantes</td>\n",
       "      <td>None</td>\n",
       "      <td>44000</td>\n",
       "      <td>...</td>\n",
       "      <td>Hernandez</td>\n",
       "      <td>Gerard</td>\n",
       "      <td>x2028</td>\n",
       "      <td>ghernande@classicmodelcars.com</td>\n",
       "      <td>4</td>\n",
       "      <td>1102.0</td>\n",
       "      <td>Sales Rep</td>\n",
       "      <td>1607.76</td>\n",
       "      <td>1025.01</td>\n",
       "      <td>582.75</td>\n",
       "    </tr>\n",
       "    <tr>\n",
       "      <th>117</th>\n",
       "      <td>119</td>\n",
       "      <td>La Rochelle Gifts</td>\n",
       "      <td>Labrune</td>\n",
       "      <td>Janine</td>\n",
       "      <td>40.67.8555</td>\n",
       "      <td>67, rue des Cinquante Otages</td>\n",
       "      <td>None</td>\n",
       "      <td>Nantes</td>\n",
       "      <td>None</td>\n",
       "      <td>44000</td>\n",
       "      <td>...</td>\n",
       "      <td>Hernandez</td>\n",
       "      <td>Gerard</td>\n",
       "      <td>x2028</td>\n",
       "      <td>ghernande@classicmodelcars.com</td>\n",
       "      <td>4</td>\n",
       "      <td>1102.0</td>\n",
       "      <td>Sales Rep</td>\n",
       "      <td>8317.80</td>\n",
       "      <td>4290.30</td>\n",
       "      <td>4027.50</td>\n",
       "    </tr>\n",
       "    <tr>\n",
       "      <th>118</th>\n",
       "      <td>119</td>\n",
       "      <td>La Rochelle Gifts</td>\n",
       "      <td>Labrune</td>\n",
       "      <td>Janine</td>\n",
       "      <td>40.67.8555</td>\n",
       "      <td>67, rue des Cinquante Otages</td>\n",
       "      <td>None</td>\n",
       "      <td>Nantes</td>\n",
       "      <td>None</td>\n",
       "      <td>44000</td>\n",
       "      <td>...</td>\n",
       "      <td>Hernandez</td>\n",
       "      <td>Gerard</td>\n",
       "      <td>x2028</td>\n",
       "      <td>ghernande@classicmodelcars.com</td>\n",
       "      <td>4</td>\n",
       "      <td>1102.0</td>\n",
       "      <td>Sales Rep</td>\n",
       "      <td>7380.38</td>\n",
       "      <td>3247.23</td>\n",
       "      <td>4133.15</td>\n",
       "    </tr>\n",
       "    <tr>\n",
       "      <th>119</th>\n",
       "      <td>119</td>\n",
       "      <td>La Rochelle Gifts</td>\n",
       "      <td>Labrune</td>\n",
       "      <td>Janine</td>\n",
       "      <td>40.67.8555</td>\n",
       "      <td>67, rue des Cinquante Otages</td>\n",
       "      <td>None</td>\n",
       "      <td>Nantes</td>\n",
       "      <td>None</td>\n",
       "      <td>44000</td>\n",
       "      <td>...</td>\n",
       "      <td>Hernandez</td>\n",
       "      <td>Gerard</td>\n",
       "      <td>x2028</td>\n",
       "      <td>ghernande@classicmodelcars.com</td>\n",
       "      <td>4</td>\n",
       "      <td>1102.0</td>\n",
       "      <td>Sales Rep</td>\n",
       "      <td>1541.69</td>\n",
       "      <td>858.36</td>\n",
       "      <td>683.33</td>\n",
       "    </tr>\n",
       "    <tr>\n",
       "      <th>120</th>\n",
       "      <td>119</td>\n",
       "      <td>La Rochelle Gifts</td>\n",
       "      <td>Labrune</td>\n",
       "      <td>Janine</td>\n",
       "      <td>40.67.8555</td>\n",
       "      <td>67, rue des Cinquante Otages</td>\n",
       "      <td>None</td>\n",
       "      <td>Nantes</td>\n",
       "      <td>None</td>\n",
       "      <td>44000</td>\n",
       "      <td>...</td>\n",
       "      <td>Hernandez</td>\n",
       "      <td>Gerard</td>\n",
       "      <td>x2028</td>\n",
       "      <td>ghernande@classicmodelcars.com</td>\n",
       "      <td>4</td>\n",
       "      <td>1102.0</td>\n",
       "      <td>Sales Rep</td>\n",
       "      <td>1205.20</td>\n",
       "      <td>942.00</td>\n",
       "      <td>263.20</td>\n",
       "    </tr>\n",
       "  </tbody>\n",
       "</table>\n",
       "<p>5 rows × 42 columns</p>\n",
       "</div>"
      ],
      "text/plain": [
       "     customerNumber       customerName contactLastName contactFirstName  \\\n",
       "116             119  La Rochelle Gifts         Labrune          Janine    \n",
       "117             119  La Rochelle Gifts         Labrune          Janine    \n",
       "118             119  La Rochelle Gifts         Labrune          Janine    \n",
       "119             119  La Rochelle Gifts         Labrune          Janine    \n",
       "120             119  La Rochelle Gifts         Labrune          Janine    \n",
       "\n",
       "          phone                  addressLine1 addressLine2    city state  \\\n",
       "116  40.67.8555  67, rue des Cinquante Otages         None  Nantes  None   \n",
       "117  40.67.8555  67, rue des Cinquante Otages         None  Nantes  None   \n",
       "118  40.67.8555  67, rue des Cinquante Otages         None  Nantes  None   \n",
       "119  40.67.8555  67, rue des Cinquante Otages         None  Nantes  None   \n",
       "120  40.67.8555  67, rue des Cinquante Otages         None  Nantes  None   \n",
       "\n",
       "    postalCode  ...   lastName  firstName  extension  \\\n",
       "116      44000  ...  Hernandez     Gerard      x2028   \n",
       "117      44000  ...  Hernandez     Gerard      x2028   \n",
       "118      44000  ...  Hernandez     Gerard      x2028   \n",
       "119      44000  ...  Hernandez     Gerard      x2028   \n",
       "120      44000  ...  Hernandez     Gerard      x2028   \n",
       "\n",
       "                              email officeCode reportsTo   jobTitle    venta  \\\n",
       "116  ghernande@classicmodelcars.com          4    1102.0  Sales Rep  1607.76   \n",
       "117  ghernande@classicmodelcars.com          4    1102.0  Sales Rep  8317.80   \n",
       "118  ghernande@classicmodelcars.com          4    1102.0  Sales Rep  7380.38   \n",
       "119  ghernande@classicmodelcars.com          4    1102.0  Sales Rep  1541.69   \n",
       "120  ghernande@classicmodelcars.com          4    1102.0  Sales Rep  1205.20   \n",
       "\n",
       "       costo ganancia  \n",
       "116  1025.01   582.75  \n",
       "117  4290.30  4027.50  \n",
       "118  3247.23  4133.15  \n",
       "119   858.36   683.33  \n",
       "120   942.00   263.20  \n",
       "\n",
       "[5 rows x 42 columns]"
      ]
     },
     "execution_count": 27,
     "metadata": {},
     "output_type": "execute_result"
    }
   ],
   "source": [
    "# Filtrar datos del año 2005\n",
    "df_2005 = filtrar_por_fecha(df_completo, \"orderDate\", \"2005-01-01\", \"2005-12-31\")\n",
    "df_2005.head(5)"
   ]
  },
  {
   "cell_type": "code",
   "execution_count": 28,
   "id": "8539e3a1-f25d-4137-9cca-2390268cb482",
   "metadata": {},
   "outputs": [
    {
     "name": "stdout",
     "output_type": "stream",
     "text": [
      "✅ Tabla 'top_10_clientes_2005' guardada en PostgreSQL con 10 registros.\n"
     ]
    }
   ],
   "source": [
    "\n",
    "# Reporte 1: Top 10 clientes 2005\n",
    "\n",
    "top_clientes_2005 = generar_reporte( #Utilizamos la funcion generar reporte\n",
    "    df=df_2005,\n",
    "    filas_index=[\"customerName\"],\n",
    "    valores=[\"venta\", \"costo\", \"ganancia\"],\n",
    "    medida=\"sum\"\n",
    ").sort_values(\"venta\", ascending=False).head(10)\n",
    "\n",
    "guardar_en_postgres(top_clientes_2005, \"top_10_clientes_2005\", engine)\n",
    "\n",
    "\n"
   ]
  },
  {
   "cell_type": "code",
   "execution_count": 29,
   "id": "51a34e7a-7a72-4a5c-bf2b-47966f61d24c",
   "metadata": {},
   "outputs": [
    {
     "data": {
      "text/html": [
       "<div>\n",
       "<style scoped>\n",
       "    .dataframe tbody tr th:only-of-type {\n",
       "        vertical-align: middle;\n",
       "    }\n",
       "\n",
       "    .dataframe tbody tr th {\n",
       "        vertical-align: top;\n",
       "    }\n",
       "\n",
       "    .dataframe thead th {\n",
       "        text-align: right;\n",
       "    }\n",
       "</style>\n",
       "<table border=\"1\" class=\"dataframe\">\n",
       "  <thead>\n",
       "    <tr style=\"text-align: right;\">\n",
       "      <th></th>\n",
       "      <th>customerName</th>\n",
       "      <th>costo</th>\n",
       "      <th>ganancia</th>\n",
       "      <th>venta</th>\n",
       "    </tr>\n",
       "  </thead>\n",
       "  <tbody>\n",
       "    <tr>\n",
       "      <th>12</th>\n",
       "      <td>Euro+ Shopping Channel</td>\n",
       "      <td>169989.97</td>\n",
       "      <td>120028.55</td>\n",
       "      <td>290018.52</td>\n",
       "    </tr>\n",
       "    <tr>\n",
       "      <th>27</th>\n",
       "      <td>Mini Gifts Distributors Ltd.</td>\n",
       "      <td>115084.72</td>\n",
       "      <td>77397.01</td>\n",
       "      <td>192481.73</td>\n",
       "    </tr>\n",
       "    <tr>\n",
       "      <th>21</th>\n",
       "      <td>La Rochelle Gifts</td>\n",
       "      <td>55527.04</td>\n",
       "      <td>35620.07</td>\n",
       "      <td>91147.11</td>\n",
       "    </tr>\n",
       "    <tr>\n",
       "      <th>39</th>\n",
       "      <td>The Sharp Gifts Warehouse</td>\n",
       "      <td>50843.02</td>\n",
       "      <td>33141.87</td>\n",
       "      <td>83984.89</td>\n",
       "    </tr>\n",
       "    <tr>\n",
       "      <th>10</th>\n",
       "      <td>Down Under Souveniers, Inc</td>\n",
       "      <td>46389.52</td>\n",
       "      <td>28630.61</td>\n",
       "      <td>75020.13</td>\n",
       "    </tr>\n",
       "    <tr>\n",
       "      <th>1</th>\n",
       "      <td>Anna's Decorations, Ltd</td>\n",
       "      <td>35414.90</td>\n",
       "      <td>21517.40</td>\n",
       "      <td>56932.30</td>\n",
       "    </tr>\n",
       "    <tr>\n",
       "      <th>33</th>\n",
       "      <td>Salzburg Collectables</td>\n",
       "      <td>33536.26</td>\n",
       "      <td>18883.81</td>\n",
       "      <td>52420.07</td>\n",
       "    </tr>\n",
       "    <tr>\n",
       "      <th>16</th>\n",
       "      <td>Gifts4AllAges.com</td>\n",
       "      <td>33221.25</td>\n",
       "      <td>17585.60</td>\n",
       "      <td>50806.85</td>\n",
       "    </tr>\n",
       "    <tr>\n",
       "      <th>7</th>\n",
       "      <td>Corporate Gift Ideas Co.</td>\n",
       "      <td>28561.31</td>\n",
       "      <td>18220.35</td>\n",
       "      <td>46781.66</td>\n",
       "    </tr>\n",
       "    <tr>\n",
       "      <th>28</th>\n",
       "      <td>Oulu Toy Supplies, Inc.</td>\n",
       "      <td>27493.61</td>\n",
       "      <td>19276.91</td>\n",
       "      <td>46770.52</td>\n",
       "    </tr>\n",
       "  </tbody>\n",
       "</table>\n",
       "</div>"
      ],
      "text/plain": [
       "                    customerName      costo   ganancia      venta\n",
       "12        Euro+ Shopping Channel  169989.97  120028.55  290018.52\n",
       "27  Mini Gifts Distributors Ltd.  115084.72   77397.01  192481.73\n",
       "21             La Rochelle Gifts   55527.04   35620.07   91147.11\n",
       "39     The Sharp Gifts Warehouse   50843.02   33141.87   83984.89\n",
       "10    Down Under Souveniers, Inc   46389.52   28630.61   75020.13\n",
       "1        Anna's Decorations, Ltd   35414.90   21517.40   56932.30\n",
       "33         Salzburg Collectables   33536.26   18883.81   52420.07\n",
       "16             Gifts4AllAges.com   33221.25   17585.60   50806.85\n",
       "7       Corporate Gift Ideas Co.   28561.31   18220.35   46781.66\n",
       "28       Oulu Toy Supplies, Inc.   27493.61   19276.91   46770.52"
      ]
     },
     "execution_count": 29,
     "metadata": {},
     "output_type": "execute_result"
    }
   ],
   "source": [
    "top_clientes_2005"
   ]
  },
  {
   "cell_type": "code",
   "execution_count": 30,
   "id": "094c4922-db79-43fb-ab4b-39e94789780c",
   "metadata": {},
   "outputs": [
    {
     "name": "stdout",
     "output_type": "stream",
     "text": [
      "✅ Tabla 'top_10_productos_2005' guardada en PostgreSQL con 10 registros.\n"
     ]
    }
   ],
   "source": [
    "# Reporte 2: Top 10 productos 2005\n",
    "\n",
    "top_productos_2005 = generar_reporte( \n",
    "    df=df_2005,\n",
    "    filas_index=[\"productName\"],\n",
    "    valores=[\"venta\", \"costo\", \"ganancia\"],\n",
    "    medida=\"sum\"\n",
    ").sort_values(\"venta\", ascending=False).head(10)\n",
    "\n",
    "guardar_en_postgres(top_productos_2005, \"top_10_productos_2005\", engine)"
   ]
  },
  {
   "cell_type": "code",
   "execution_count": 31,
   "id": "990356ff-f0f3-4daf-8504-72b0d6b2039e",
   "metadata": {},
   "outputs": [
    {
     "data": {
      "text/html": [
       "<div>\n",
       "<style scoped>\n",
       "    .dataframe tbody tr th:only-of-type {\n",
       "        vertical-align: middle;\n",
       "    }\n",
       "\n",
       "    .dataframe tbody tr th {\n",
       "        vertical-align: top;\n",
       "    }\n",
       "\n",
       "    .dataframe thead th {\n",
       "        text-align: right;\n",
       "    }\n",
       "</style>\n",
       "<table border=\"1\" class=\"dataframe\">\n",
       "  <thead>\n",
       "    <tr style=\"text-align: right;\">\n",
       "      <th></th>\n",
       "      <th>productName</th>\n",
       "      <th>costo</th>\n",
       "      <th>ganancia</th>\n",
       "      <th>venta</th>\n",
       "    </tr>\n",
       "  </thead>\n",
       "  <tbody>\n",
       "    <tr>\n",
       "      <th>76</th>\n",
       "      <td>1992 Ferrari 360 Spider red</td>\n",
       "      <td>27031.30</td>\n",
       "      <td>25946.98</td>\n",
       "      <td>52978.28</td>\n",
       "    </tr>\n",
       "    <tr>\n",
       "      <th>91</th>\n",
       "      <td>2003 Harley-Davidson Eagle Drag Bike</td>\n",
       "      <td>19023.18</td>\n",
       "      <td>15832.94</td>\n",
       "      <td>34856.12</td>\n",
       "    </tr>\n",
       "    <tr>\n",
       "      <th>36</th>\n",
       "      <td>1952 Alpine Renault 1300</td>\n",
       "      <td>17152.92</td>\n",
       "      <td>16884.28</td>\n",
       "      <td>34037.20</td>\n",
       "    </tr>\n",
       "    <tr>\n",
       "      <th>55</th>\n",
       "      <td>1968 Ford Mustang</td>\n",
       "      <td>17161.20</td>\n",
       "      <td>14538.31</td>\n",
       "      <td>31699.51</td>\n",
       "    </tr>\n",
       "    <tr>\n",
       "      <th>39</th>\n",
       "      <td>1956 Porsche 356A Coupe</td>\n",
       "      <td>25066.50</td>\n",
       "      <td>6365.64</td>\n",
       "      <td>31432.14</td>\n",
       "    </tr>\n",
       "    <tr>\n",
       "      <th>89</th>\n",
       "      <td>2002 Suzuki XREO</td>\n",
       "      <td>15308.37</td>\n",
       "      <td>15125.72</td>\n",
       "      <td>30434.09</td>\n",
       "    </tr>\n",
       "    <tr>\n",
       "      <th>58</th>\n",
       "      <td>1969 Dodge Charger</td>\n",
       "      <td>15974.56</td>\n",
       "      <td>13592.71</td>\n",
       "      <td>29567.27</td>\n",
       "    </tr>\n",
       "    <tr>\n",
       "      <th>83</th>\n",
       "      <td>1997 BMW R 1100 S</td>\n",
       "      <td>16493.06</td>\n",
       "      <td>12254.63</td>\n",
       "      <td>28747.69</td>\n",
       "    </tr>\n",
       "    <tr>\n",
       "      <th>9</th>\n",
       "      <td>1917 Grand Touring Sedan</td>\n",
       "      <td>16386.30</td>\n",
       "      <td>11444.40</td>\n",
       "      <td>27830.70</td>\n",
       "    </tr>\n",
       "    <tr>\n",
       "      <th>67</th>\n",
       "      <td>1972 Alfa Romeo GTA</td>\n",
       "      <td>18678.24</td>\n",
       "      <td>8547.60</td>\n",
       "      <td>27225.84</td>\n",
       "    </tr>\n",
       "  </tbody>\n",
       "</table>\n",
       "</div>"
      ],
      "text/plain": [
       "                             productName     costo  ganancia     venta\n",
       "76           1992 Ferrari 360 Spider red  27031.30  25946.98  52978.28\n",
       "91  2003 Harley-Davidson Eagle Drag Bike  19023.18  15832.94  34856.12\n",
       "36              1952 Alpine Renault 1300  17152.92  16884.28  34037.20\n",
       "55                     1968 Ford Mustang  17161.20  14538.31  31699.51\n",
       "39               1956 Porsche 356A Coupe  25066.50   6365.64  31432.14\n",
       "89                      2002 Suzuki XREO  15308.37  15125.72  30434.09\n",
       "58                    1969 Dodge Charger  15974.56  13592.71  29567.27\n",
       "83                     1997 BMW R 1100 S  16493.06  12254.63  28747.69\n",
       "9               1917 Grand Touring Sedan  16386.30  11444.40  27830.70\n",
       "67                   1972 Alfa Romeo GTA  18678.24   8547.60  27225.84"
      ]
     },
     "execution_count": 31,
     "metadata": {},
     "output_type": "execute_result"
    }
   ],
   "source": [
    "top_productos_2005"
   ]
  },
  {
   "cell_type": "markdown",
   "id": "4846217a-7668-4d4b-95ae-c15c81dca578",
   "metadata": {},
   "source": [
    "# funciones.py\n",
    "\n",
    "import pandas as pd\n",
    "\n",
    "\n",
    "# 1. Función para filtrar por fechas. Sirve para realizar reportes en dentro de ciertas franjas temporales\n",
    "\n",
    "def filtrar_por_fecha(df, columna_fecha, fecha_inicio, fecha_fin):\n",
    "    \"\"\"\n",
    "    Filtra un DataFrame entre un rango de fechas dado.\n",
    "    \"\"\"\n",
    "    df[columna_fecha] = pd.to_datetime(df[columna_fecha]) # Convertir a datetime el objeto\n",
    "    return df[(df[columna_fecha] >= fecha_inicio) & (df[columna_fecha] <= fecha_fin)] # Filtra valores mayores o igual a fecha inicio y menor o igual a fecha final\n",
    "\n",
    "\n",
    "\n",
    "# 2. Función para generar reportes como tablas pivote con a partir de un data frame con informacion de ventas. Por default calcula totales\n",
    "\n",
    "def generar_reporte(df, filas_index, columnas=None, valores=None, medida=\"sum\"):\n",
    "    \"\"\"\n",
    "    Genera un reporte en formato de tabla pivote.\n",
    "    \"\"\"\n",
    "    return pd.pivot_table(\n",
    "        df,\n",
    "        index=filas_index, # Valores a partir de los cuales se quiere agrupar\n",
    "        columns=columnas, \n",
    "        values=valores, # valores que se quieren calcular\n",
    "        aggfunc=medida, # default de medida = suma\n",
    "        fill_value=0\n",
    "    ).reset_index()\n",
    "\n",
    "\n",
    "\n",
    "# 3. Función para guardar en PostgreSQL. Se utiliza para guardar reporte como una nueva tabla en SQL\n",
    "\n",
    "def guardar_en_postgres(df, nombre_tabla, engine, if_exists=\"replace\"):\n",
    "    \"\"\"\n",
    "    Guarda un DataFrame en PostgreSQL.\n",
    "    \"\"\"\n",
    "    df.to_sql(nombre_tabla, engine, if_exists=if_exists, index=False)\n",
    "    print(f\"✅ Tabla '{nombre_tabla}' guardada en PostgreSQL con {len(df)} registros.\")\n"
   ]
  },
  {
   "cell_type": "code",
   "execution_count": null,
   "id": "348381a1-d9a3-4ff6-9e33-d197cce6a4ab",
   "metadata": {},
   "outputs": [],
   "source": []
  }
 ],
 "metadata": {
  "kernelspec": {
   "display_name": "Python 3 (ipykernel)",
   "language": "python",
   "name": "python3"
  },
  "language_info": {
   "codemirror_mode": {
    "name": "ipython",
    "version": 3
   },
   "file_extension": ".py",
   "mimetype": "text/x-python",
   "name": "python",
   "nbconvert_exporter": "python",
   "pygments_lexer": "ipython3",
   "version": "3.12.7"
  }
 },
 "nbformat": 4,
 "nbformat_minor": 5
}
