{
 "cells": [
  {
   "cell_type": "markdown",
   "id": "fc49f1b8-804f-455d-b1d9-c780d5a257e5",
   "metadata": {},
   "source": [
    "# 1. Para desarrollar este desafío necesitarás los siguientes archivos:\n",
    "● incidents.pkl\n",
    "● officers.pkl\n",
    "● subjects.pkl"
   ]
  },
  {
   "cell_type": "markdown",
   "id": "9dd8db82-2735-478f-b5d1-a9f6199aeaa5",
   "metadata": {},
   "source": [
    "a. Carga los datos y crea un DataFrame con cada uno de ellos.\n",
    "\n",
    "\n",
    "\n",
    "\n"
   ]
  },
  {
   "cell_type": "code",
   "execution_count": 3,
   "id": "496834cc-d1d9-4a07-bb03-e3e05ca7abad",
   "metadata": {},
   "outputs": [],
   "source": [
    "# Importar pandas\n",
    "import pandas as pd\n"
   ]
  },
  {
   "cell_type": "markdown",
   "id": "26eab894-3183-4003-beda-557d759088f1",
   "metadata": {},
   "source": [
    "a. Carga los datos y crea un DataFrame con cada uno de ellos."
   ]
  },
  {
   "cell_type": "code",
   "execution_count": 5,
   "id": "fa93dceb-acf9-4a6b-8112-b869d07995c0",
   "metadata": {},
   "outputs": [
    {
     "name": "stdout",
     "output_type": "stream",
     "text": [
      "(219, 15) (370, 6) (223, 6)\n"
     ]
    }
   ],
   "source": [
    "\n",
    "\n",
    "incidents = pd.read_pickle(\"incidents.pkl\")\n",
    "officers = pd.read_pickle(\"officers.pkl\")\n",
    "subjects = pd.read_pickle(\"subjects.pkl\")\n",
    "\n",
    "# Visualizar la forma de los datos\n",
    "print(incidents.shape, officers.shape, subjects.shape)"
   ]
  },
  {
   "cell_type": "code",
   "execution_count": 6,
   "id": "933c7958-cf5e-4609-9450-b301dc55ecf9",
   "metadata": {},
   "outputs": [
    {
     "data": {
      "text/plain": [
       "Index(['case_number', 'date', 'location', 'subject_statuses', 'subject_weapon',\n",
       "       'subjects', 'subject_count', 'officers', 'officer_count',\n",
       "       'grand_jury_disposition', 'attorney_general_forms_url', 'summary_url',\n",
       "       'summary_text', 'latitude', 'longitude'],\n",
       "      dtype='object')"
      ]
     },
     "execution_count": 6,
     "metadata": {},
     "output_type": "execute_result"
    }
   ],
   "source": [
    "incidents.columns"
   ]
  },
  {
   "cell_type": "code",
   "execution_count": 7,
   "id": "e754effc-b34e-43f8-93c4-c25f846682e9",
   "metadata": {},
   "outputs": [
    {
     "data": {
      "text/plain": [
       "Index(['case_number', 'race', 'gender', 'last_name', 'first_name',\n",
       "       'full_name'],\n",
       "      dtype='object')"
      ]
     },
     "execution_count": 7,
     "metadata": {},
     "output_type": "execute_result"
    }
   ],
   "source": [
    "officers.columns\n"
   ]
  },
  {
   "cell_type": "code",
   "execution_count": 8,
   "id": "540a0065-faf3-4f23-8095-1b7f1af09e9d",
   "metadata": {},
   "outputs": [
    {
     "data": {
      "text/plain": [
       "Index(['case_number', 'race', 'gender', 'last_name', 'first_name',\n",
       "       'full_name'],\n",
       "      dtype='object')"
      ]
     },
     "execution_count": 8,
     "metadata": {},
     "output_type": "execute_result"
    }
   ],
   "source": [
    "subjects.columns\n"
   ]
  },
  {
   "cell_type": "code",
   "execution_count": 9,
   "id": "8a235932-a49c-4fde-a66f-a991784392f4",
   "metadata": {},
   "outputs": [
    {
     "name": "stdout",
     "output_type": "stream",
     "text": [
      "La columna comun es: {'case_number'}\n"
     ]
    }
   ],
   "source": [
    "#Identificamos la comuna en comun con todos los dataframes para unirlas\n",
    "common_columns = set(officers.columns) & set(subjects.columns) & set(incidents.columns) #Interseccion de nombres de columnas en un set\n",
    "print(\"La columna comun es:\", common_columns)"
   ]
  },
  {
   "cell_type": "markdown",
   "id": "aedc48fe-c794-4254-959f-e755055cdc05",
   "metadata": {},
   "source": [
    "b. Genera una tabla que contenga la unión de las 3 tablas. hint: utiliza sufijos para  las\n",
    "columnas que se llaman igual usando el parámetro suffixes de pd.merge()."
   ]
  },
  {
   "cell_type": "code",
   "execution_count": 11,
   "id": "75cf2234-8719-4495-ba9c-af9e632a993e",
   "metadata": {},
   "outputs": [],
   "source": [
    "\n",
    "# Unir incidents con officers. Incidents son eventos unicos, se mantienen por si solos\n",
    "df_union1 = pd.merge(incidents, officers, on='case_number', suffixes=('', '_officer')) \n",
    "#Registros de officers no quedan etiquetados porque no se repiten nombres de columnas con incidents\n",
    "\n"
   ]
  },
  {
   "cell_type": "code",
   "execution_count": 12,
   "id": "c8fe68bd-5b86-4b9e-9b9f-a25c075b7937",
   "metadata": {},
   "outputs": [
    {
     "name": "stdout",
     "output_type": "stream",
     "text": [
      "(377, 25)\n"
     ]
    }
   ],
   "source": [
    "# Unir con subjects\n",
    "df_union = pd.merge(df_union1, subjects, on='case_number', suffixes=('', '_subject')) #Registros de subjets quedan etiquetados\n",
    "\n",
    "# Visualizar la forma de los datos\n",
    "print(df_union.shape)"
   ]
  },
  {
   "cell_type": "code",
   "execution_count": 13,
   "id": "a00ef3a3-9d90-40fd-9892-2eaf09485253",
   "metadata": {},
   "outputs": [
    {
     "data": {
      "text/plain": [
       "Index(['case_number', 'date', 'location', 'subject_statuses', 'subject_weapon',\n",
       "       'subjects', 'subject_count', 'officers', 'officer_count',\n",
       "       'grand_jury_disposition', 'attorney_general_forms_url', 'summary_url',\n",
       "       'summary_text', 'latitude', 'longitude', 'race', 'gender', 'last_name',\n",
       "       'first_name', 'full_name', 'race_subject', 'gender_subject',\n",
       "       'last_name_subject', 'first_name_subject', 'full_name_subject'],\n",
       "      dtype='object')"
      ]
     },
     "execution_count": 13,
     "metadata": {},
     "output_type": "execute_result"
    }
   ],
   "source": [
    "df_union.columns"
   ]
  },
  {
   "cell_type": "markdown",
   "id": "77e57863-c7de-4d82-a3fe-f62b5ce94a01",
   "metadata": {},
   "source": [
    "c. Verifica si hay filas duplicadas; si es así, elimínalas."
   ]
  },
  {
   "cell_type": "code",
   "execution_count": 15,
   "id": "83c28a3e-5c84-4981-916c-f177f77d2c94",
   "metadata": {
    "scrolled": true
   },
   "outputs": [
    {
     "name": "stdout",
     "output_type": "stream",
     "text": [
      "Número de filas duplicadas: 0\n"
     ]
    }
   ],
   "source": [
    "\n",
    "duplicates = df_union.duplicated().sum()\n",
    "print(f\"Número de filas duplicadas: {duplicates}\")\n",
    "\n"
   ]
  },
  {
   "cell_type": "code",
   "execution_count": 16,
   "id": "98b86eec-ba90-454d-a7e2-df2382d41fe9",
   "metadata": {},
   "outputs": [
    {
     "name": "stdout",
     "output_type": "stream",
     "text": [
      "case_number\n",
      "134472-2015    15\n",
      "380792W        13\n",
      "165193-2016    12\n",
      "199250-2015     9\n",
      "94073V          8\n",
      "               ..\n",
      "161582R         1\n",
      "379145V         1\n",
      "636873T         1\n",
      "523445N         1\n",
      "327705X         1\n",
      "Name: count, Length: 216, dtype: int64\n",
      "case_number\n",
      "134472-2015    15\n",
      "380792W        13\n",
      "165193-2016    12\n",
      "199250-2015     9\n",
      "94073V          8\n",
      "               ..\n",
      "862009M         2\n",
      "165748Y         2\n",
      "989995N         2\n",
      "559487M         2\n",
      "309130W         2\n",
      "Name: count, Length: 72, dtype: int64\n"
     ]
    }
   ],
   "source": [
    "registros_por_caso = df_union['case_number'].value_counts()\n",
    "print(registros_por_caso)\n",
    "\n",
    "# Filtrar los case_number con más de un registro\n",
    "registros_repetidos = registros_por_caso[registros_por_caso > 1]\n",
    "\n",
    "# Imprimir solo esos\n",
    "print(registros_repetidos)\n"
   ]
  },
  {
   "cell_type": "markdown",
   "id": "adc01210-1c2a-41e6-ba3e-76cab03f778d",
   "metadata": {},
   "source": [
    "No existen registros duplicados propiamente tal, pero existen 72 casos que poseen mas de un registro debido a que tienen mas de un sujeto o mas de un oficial involucrado"
   ]
  },
  {
   "cell_type": "markdown",
   "id": "41a10e20-d9e1-4981-bec0-493a44a8643f",
   "metadata": {},
   "source": [
    "d. ¿Cuántos sujetos de género F hay en el DataFrame resultante? hint: usa el método"
   ]
  },
  {
   "cell_type": "code",
   "execution_count": 19,
   "id": "9f272804-91bf-478e-b4d4-b4c04eb4177f",
   "metadata": {},
   "outputs": [
    {
     "name": "stdout",
     "output_type": "stream",
     "text": [
      "gender_subject\n",
      "M    368\n",
      "F      9\n",
      "Name: count, dtype: int64\n",
      "Los sujetos F (femenino) son: 9\n"
     ]
    }
   ],
   "source": [
    "\n",
    "genero_subject = df_union['gender_subject'].value_counts()\n",
    "print(genero_subject)\n",
    "\n",
    "print(\"Los sujetos F (femenino) son:\", genero_subject['F'])"
   ]
  },
  {
   "cell_type": "markdown",
   "id": "ad7e8558-f98a-42cb-8955-d480aba64db0",
   "metadata": {},
   "source": [
    "e. ¿En cuántos números de caso hay por lo menos una sospechosa que sea mujer? hint:\n",
    "utiliza el método unique() para obtener los valores únicos de una columna específica de\n",
    "un DataFrame luego de filtrar."
   ]
  },
  {
   "cell_type": "code",
   "execution_count": 21,
   "id": "9fc4fc6e-7ac0-4185-bf30-3cd74f91a170",
   "metadata": {},
   "outputs": [
    {
     "name": "stdout",
     "output_type": "stream",
     "text": [
      "Número de casos con al menos una mujer sospechosa: 7\n"
     ]
    }
   ],
   "source": [
    "# Filtrar por género femenino y obtener casos únicos\n",
    "casos_sujeto_f = df_union[df_union['gender_subject'] == 'F']\n",
    "\n",
    "n_casos_sujeto_f = casos_sujeto_f['case_number'].nunique()\n",
    "print(\"Número de casos con al menos una mujer sospechosa:\", n_casos_sujeto_f)\n"
   ]
  },
  {
   "cell_type": "markdown",
   "id": "a047657c-75d6-401f-8948-45beefd54a64",
   "metadata": {},
   "source": [
    "f. Genera una tabla pivote que muestre en las filas el género del oficial y en las columnas el\n",
    "género del subject. ¿Cómo interpretas los valores que muestra esta vista?"
   ]
  },
  {
   "cell_type": "code",
   "execution_count": 23,
   "id": "c53e075c-08dc-4a3a-a7b5-88d8b7408989",
   "metadata": {},
   "outputs": [
    {
     "name": "stdout",
     "output_type": "stream",
     "text": [
      "gender_subject  F    M\n",
      "gender                \n",
      "F               2   18\n",
      "M               7  350\n"
     ]
    }
   ],
   "source": [
    "tabla_pivote = pd.pivot_table(df_union,\n",
    "                             index='gender',\n",
    "                             columns='gender_subject',\n",
    "                             values='case_number',\n",
    "                             aggfunc='count',\n",
    "                             fill_value=0)\n",
    "\n",
    "print(tabla_pivote)\n"
   ]
  },
  {
   "cell_type": "markdown",
   "id": "13139263-873c-4e38-a4ea-fd6755c920d9",
   "metadata": {},
   "source": [
    "Es mucho mas común que los oficiales masculinos esten a cargo de procesar casos con sujetos masculinos"
   ]
  },
  {
   "cell_type": "markdown",
   "id": "d67c637b-e0fb-4635-ae9a-620eaa76d1f1",
   "metadata": {},
   "source": [
    "# 2. Para continuar con el desarrollo de este desafío, necesitarás el archivos Cleaned_DS_Jobs.csv\n"
   ]
  },
  {
   "cell_type": "markdown",
   "id": "15b20000-650c-4d10-b196-a8cb9b400ba7",
   "metadata": {},
   "source": [
    "a. Carga los datos y crea un DataFrame con ellos."
   ]
  },
  {
   "cell_type": "code",
   "execution_count": 27,
   "id": "a2c301e7-546a-444f-ae01-ca05ad85c404",
   "metadata": {},
   "outputs": [],
   "source": [
    "import numpy as np\n",
    "\n",
    "df = pd.read_csv(\"Cleaned_DS_Jobs.csv\")"
   ]
  },
  {
   "cell_type": "code",
   "execution_count": 28,
   "id": "7939bc25-a29d-4ed0-8216-9bfdbcad074f",
   "metadata": {},
   "outputs": [
    {
     "data": {
      "text/plain": [
       "0      137-171 \n",
       "1      137-171 \n",
       "2      137-171 \n",
       "3      137-171 \n",
       "4      137-171 \n",
       "         ...   \n",
       "655    105-167 \n",
       "656    105-167 \n",
       "657    105-167 \n",
       "658    105-167 \n",
       "659    105-167 \n",
       "Name: Salary Estimate, Length: 660, dtype: object"
      ]
     },
     "execution_count": 28,
     "metadata": {},
     "output_type": "execute_result"
    }
   ],
   "source": [
    "df['Salary Estimate']\n",
    "\n"
   ]
  },
  {
   "cell_type": "markdown",
   "id": "b15a60af-84cf-425c-8c93-ca81d3410bb2",
   "metadata": {},
   "source": [
    "b. Utiliza la siguiente lista de valores que serán considerados como nulos:\n",
    "[\"na\", \"NA\", -1, \"0\", \"-1\", \"null\", \"n/a\", \"N/A\", \"NULL\"]\n",
    "(hint: utiliza el método replace para reemplazar los valores indicados por np.nan)\n"
   ]
  },
  {
   "cell_type": "code",
   "execution_count": 30,
   "id": "e26c8783-20e0-4f59-9229-3a030a96a38a",
   "metadata": {},
   "outputs": [],
   "source": [
    "# Lista de valores nulos\n",
    "valores_nulos = [\"na\", \"NA\", -1, \"0\", \"-1\", \"null\", \"n/a\", \"N/A\", \"NULL\"]\n",
    "\n",
    "# Reemplazar con np.nan\n",
    "df.replace(valores_nulos, np.nan, inplace=True)\n"
   ]
  },
  {
   "cell_type": "markdown",
   "id": "e71274ec-6fd3-4157-9636-1609947c138b",
   "metadata": {},
   "source": [
    "c. Elimina todas las filas con datos faltantes. (hint: utiliza el método .dropna())"
   ]
  },
  {
   "cell_type": "code",
   "execution_count": 32,
   "id": "1f22256c-d587-4a5e-a5f1-2370b73814fe",
   "metadata": {},
   "outputs": [],
   "source": [
    "df.dropna(inplace=True)\n"
   ]
  },
  {
   "cell_type": "markdown",
   "id": "21cc259e-5cba-478f-8b41-f9177464edb6",
   "metadata": {},
   "source": [
    "d. A partir de la columna “Salary Estimate”, genera dos columnas: Salario Estimado Mínimo\n",
    "y Máximo. (hint: Utiliza el método apply sobre la columna.)"
   ]
  },
  {
   "cell_type": "code",
   "execution_count": 34,
   "id": "56044ffc-3782-4a97-a024-a6efbc8dae6a",
   "metadata": {},
   "outputs": [
    {
     "name": "stdout",
     "output_type": "stream",
     "text": [
      "0     171 \n",
      "32    131 \n",
      "38    131 \n",
      "45    131 \n",
      "54    131 \n",
      "Name: Salario Estimado Máximo, dtype: object\n",
      "0     137\n",
      "32     75\n",
      "38     75\n",
      "45     75\n",
      "54     75\n",
      "Name: Salario Estimado Mínimo, dtype: object\n"
     ]
    }
   ],
   "source": [
    "# Crear dos columnas de salario maximo y minimo a partir del salario estimado\n",
    "df[[\"Salario Estimado Mínimo\", \"Salario Estimado Máximo\"]] = df[\"Salary Estimate\"].apply(lambda x: pd.Series(x.split(\"-\")))\n",
    "\n",
    "print(df[\"Salario Estimado Máximo\"].head(5))\n",
    "print(df[\"Salario Estimado Mínimo\"].head(5))"
   ]
  },
  {
   "cell_type": "markdown",
   "id": "b71cc9f3-fafb-401d-8a98-3511c9cf28e4",
   "metadata": {},
   "source": [
    "e. Realiza la recodificación de la columna Size con los valores de la siguiente tabla: (hint:\n",
    "utilice reemplazo con diccionario usando el método replace sobre la columna.)\n"
   ]
  },
  {
   "cell_type": "code",
   "execution_count": 36,
   "id": "f534f3e9-1d39-42d9-a5a9-20feaea8a843",
   "metadata": {},
   "outputs": [],
   "source": [
    "# Diccionario de recodificación\n",
    "recodificacion = {\n",
    "    \"10000+ employees\": \"Mega Empresas\",\n",
    "    \"5001 to 10000 employees\": \"Grandes Empresas\",\n",
    "    \"1001 to 5000 employees\": \"Medianas Empresas\",\n",
    "    \"201 to 500 employees\": \"Pequeñas Empresas\",\n",
    "    \"51 to 200 employees\": \"Pequeñas Grandes Empresas\",\n",
    "    \"501 to 1000 employees\": \"Microempresas\",\n",
    "    \"Unknown\": \"Empresas sin Información\"\n",
    "}\n",
    "\n",
    "# Guardar valores en una nueva columna recodificada\n",
    "df[\"Size Descripción\"] = df[\"Size\"].replace(recodificacion)\n",
    "\n"
   ]
  },
  {
   "cell_type": "markdown",
   "id": "5a91557e-462d-4239-a6f9-29c67e07e949",
   "metadata": {},
   "source": [
    "f. Finalmente, genera una tabla pivote que muestre la media del salario estimado mínimo y\n",
    "la media del salario estimado máximo por tamaño de empresa. (hint: utiliza\n",
    "pd.pivot_table para generar la vista adecuada con las columnas generadas.)\n"
   ]
  },
  {
   "cell_type": "code",
   "execution_count": 38,
   "id": "e1bdde81-2d85-42df-b26f-120e874b660a",
   "metadata": {},
   "outputs": [
    {
     "name": "stdout",
     "output_type": "stream",
     "text": [
      "                           Salario Estimado Máximo  Salario Estimado Mínimo\n",
      "Size Descripción                                                           \n",
      "Empresas sin Información                110.500000                73.000000\n",
      "Grandes Empresas                        138.875000                92.125000\n",
      "Medianas Empresas                       137.461538                93.923077\n",
      "Mega Empresas                           151.111111                97.888889\n",
      "Microempresas                           146.235294               100.176471\n",
      "Pequeñas Empresas                       141.142857                93.571429\n",
      "Pequeñas Grandes Empresas               137.666667               100.666667\n"
     ]
    }
   ],
   "source": [
    "# Transformar objetos a valor numerico\n",
    "df[\"Salario Estimado Mínimo\"] = pd.to_numeric(df[\"Salario Estimado Mínimo\"])\n",
    "df[\"Salario Estimado Máximo\"] = pd.to_numeric(df[\"Salario Estimado Máximo\"])\n",
    "\n",
    "#Crear tabla pivote con tamaño empresas como filas y salarios estimados como columnas. Agregar por la media\n",
    "pivot = pd.pivot_table(\n",
    "    df,\n",
    "    index='Size Descripción',  \n",
    "    values=['Salario Estimado Mínimo', 'Salario Estimado Máximo'], \n",
    "    aggfunc='mean'  \n",
    ")\n",
    "\n",
    "print(pivot)\n"
   ]
  },
  {
   "cell_type": "code",
   "execution_count": null,
   "id": "4471a0a8-37f2-41c2-95b1-e96e6d48aae1",
   "metadata": {},
   "outputs": [],
   "source": []
  }
 ],
 "metadata": {
  "kernelspec": {
   "display_name": "Python 3 (ipykernel)",
   "language": "python",
   "name": "python3"
  },
  "language_info": {
   "codemirror_mode": {
    "name": "ipython",
    "version": 3
   },
   "file_extension": ".py",
   "mimetype": "text/x-python",
   "name": "python",
   "nbconvert_exporter": "python",
   "pygments_lexer": "ipython3",
   "version": "3.12.7"
  }
 },
 "nbformat": 4,
 "nbformat_minor": 5
}
