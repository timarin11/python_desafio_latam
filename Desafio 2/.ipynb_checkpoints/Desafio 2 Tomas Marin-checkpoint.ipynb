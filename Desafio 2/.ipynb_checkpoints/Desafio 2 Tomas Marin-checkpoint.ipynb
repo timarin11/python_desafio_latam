{
 "cells": [
  {
   "cell_type": "markdown",
   "id": "352e4038-9917-44de-b0c0-29a8cbaacae0",
   "metadata": {},
   "source": [
    "1. Usando la siguiente lista:\n",
    "lista = [\"manzana\", \"pera\", \"naranja\", \"plátano\", \"kiwi\", \"uva\", \"piña\",\n",
    "\"mango\", \"sandía\", \"melón\"]\n",
    "a. Imprime el quinto elemento de la lista.\n",
    "b. Imprime del cuarto al sexto inclusive.\n",
    "c. Elimina el elemento en la posición 3\n",
    "d. Agrega dos nuevos elementos a la lista\n",
    "e. Ordena la lista alfabéticamente.\n",
    "f. Genera un diccionario usando lista1 como llaves y lista como valores.\n",
    "lista1 = [\"uno\", \"dos\", \"tres\", \"cuatro\", \"cinco\", \"seis\", \"siete\",\n",
    "\"ocho\", \"nueve\", \"diez\"]\n",
    "\n"
   ]
  },
  {
   "cell_type": "code",
   "execution_count": 2,
   "id": "ffebc226-1497-482b-892c-1b40c988e1a5",
   "metadata": {},
   "outputs": [
    {
     "name": "stdout",
     "output_type": "stream",
     "text": [
      "kiwi\n"
     ]
    }
   ],
   "source": [
    "# Creamos la lista\n",
    "lista = [\"manzana\", \"pera\", \"naranja\", \"plátano\", \"kiwi\", \"uva\", \"piña\", \"mango\", \"sandía\", \"melón\"]\n",
    "\n",
    "# a. Imprime el quinto elemento de la lista.\n",
    "\n",
    "print(lista[4]) # El primero es 0. El 5to puesto es 5 -1"
   ]
  },
  {
   "cell_type": "code",
   "execution_count": 3,
   "id": "10cbeba3-160c-4993-9f84-8e592eb1430e",
   "metadata": {},
   "outputs": [
    {
     "name": "stdout",
     "output_type": "stream",
     "text": [
      "['plátano', 'kiwi', 'uva']\n"
     ]
    }
   ],
   "source": [
    "# b. Imprime del cuarto al sexto inclusive.\n",
    "\n",
    "print(lista[3:6])  # ['plátano', 'kiwi', 'uva']"
   ]
  },
  {
   "cell_type": "code",
   "execution_count": 4,
   "id": "11e7f1b5-7c48-4eea-8e8a-5fc7deb5785a",
   "metadata": {},
   "outputs": [
    {
     "name": "stdout",
     "output_type": "stream",
     "text": [
      "['manzana', 'pera', 'naranja', 'kiwi', 'uva', 'piña', 'mango', 'sandía', 'melón']\n"
     ]
    }
   ],
   "source": [
    "# c. Elimina el elemento en la posición 3\n",
    "del lista[3] # platano\n",
    "print(lista)\n"
   ]
  },
  {
   "cell_type": "code",
   "execution_count": 5,
   "id": "8b4c6da6-b4a8-47ce-b62b-9836b3423079",
   "metadata": {},
   "outputs": [
    {
     "name": "stdout",
     "output_type": "stream",
     "text": [
      "['manzana', 'pera', 'naranja', 'kiwi', 'uva', 'piña', 'mango', 'sandía', 'melón', 'fresa', 'cereza']\n"
     ]
    }
   ],
   "source": [
    "# d. Agrega dos nuevos elementos a la lista\n",
    "lista.extend([\"fresa\", \"cereza\"]) #se agregan al final. Append es diferente y agrega otra lista\n",
    "print(lista)"
   ]
  },
  {
   "cell_type": "code",
   "execution_count": 6,
   "id": "22710ee1-4762-4663-b7c6-49d95ceec359",
   "metadata": {},
   "outputs": [
    {
     "name": "stdout",
     "output_type": "stream",
     "text": [
      "['cereza', 'fresa', 'kiwi', 'mango', 'manzana', 'melón', 'naranja', 'pera', 'piña', 'sandía', 'uva']\n"
     ]
    }
   ],
   "source": [
    "# e. Ordena la lista alfabéticamente.\n",
    "lista.sort() \n",
    "print(lista)"
   ]
  },
  {
   "cell_type": "code",
   "execution_count": 7,
   "id": "fb0722cd-ab11-4e7a-b177-455a1ed460c3",
   "metadata": {},
   "outputs": [
    {
     "name": "stdout",
     "output_type": "stream",
     "text": [
      "{'uno': 'cereza', 'dos': 'fresa', 'tres': 'kiwi', 'cuatro': 'mango', 'cinco': 'manzana', 'seis': 'melón', 'siete': 'naranja', 'ocho': 'pera', 'nueve': 'piña', 'diez': 'sandía'}\n"
     ]
    }
   ],
   "source": [
    "# f. Genera un diccionario usando lista1 como llaves y lista como valores.\n",
    "\n",
    "lista1 = [\"uno\", \"dos\", \"tres\", \"cuatro\", \"cinco\", \"seis\", \"siete\", \"ocho\", \"nueve\", \"diez\"]\n",
    "diccionario = dict(zip(lista1, lista)) # crea un diccionario a traves de una iteracion por tuplas\n",
    "print(diccionario)"
   ]
  },
  {
   "cell_type": "markdown",
   "id": "0a6e21d0-831a-4a57-8835-282f117d361b",
   "metadata": {},
   "source": [
    "2. Fabricación de cerveza artesanal\n",
    "El LIC y el LSC son calculados utilizando la media y la desviación estándar de los datos del\n",
    "proceso. La idea es que la mayoría de los datos del proceso se encuentren dentro de los límites\n",
    "de control (entre el LIC y el LSC), y si un dato cae fuera de estos límites, se puede considerar\n",
    "que el proceso está fuera de control y se requiere una acción correctiva para investigar y\n",
    "corregir la causa de la variación. El valor del LIC se calcula como la media menos tres veces la\n",
    "desviación estándar, y el valor del LSC se calcula como la media más tres veces la\n",
    "desviación estándar. Estos límites representan el rango en el que la mayoría de los datos del\n",
    "proceso deberían estar.\n",
    "\n",
    "Para poder asegurar de que la cantidad de alcohol en cada lote de cerveza sea consistente,\n",
    "debes medir el porcentaje de alcohol de cada lote y registrar los datos en una hoja de cálculo.\n",
    "Esta información ya ha sido recolectada y se encuentra en el archivo alcohol_cerveza.csv.\n",
    "#### El objetivo del ejercicio es calcular la media, la desviación estándar, el LIC y el LSC del\n",
    "#### porcentaje de alcohol y guardarlos en variables.\n",
    "\n",
    "#### Para asegurarte de que los lotes de cerveza se estén elaborando de forma consistente y que el\n",
    "#### nivel de alcohol sea el adecuado, una vez calculadas las medidas anteriores, indicar cuáles\n",
    "#### valores quedarían fuera de los límites de control y cuántos son.\n",
    "\n",
    "Como guía puedes seguir estos pasos:\n",
    "\n",
    "● Importa la librería NumPy.\n",
    "● Carga los datos del archivo csv en una variable llamada array, usando\n",
    "np.loadtxt(“alcohol_cerveza.csv”) y modifica los parámetros necesarios para leer bien el\n",
    "archivo.\n",
    "● Calcula la media de los datos utilizando la función mean de NumPy y almacena el\n",
    "resultado en una variable llamada media.\n",
    "● Calcula la desviación estándar de los datos utilizando la función std de NumPy y\n",
    "almacena el resultado en una variable llamada desviacion.\n",
    "● Calcula el límite inferior de control (LIC) utilizando la fórmula: media - (3 * desviacion)\n",
    "y almacena el resultado en una variable llamada lic.\n",
    "● Calcula el límite superior de control (LSC) utilizando la fórmula: media + (3 *\n",
    "desviacion) y almacena el resultado en una variable llamada lsc.\n",
    "● Imprime los resultados de la media, la desviación estándar, el LIC y el LSC.\n",
    "● Filtra el array utilizando np.logical_or(condicion1, condicion2) para obtener los valores\n",
    "fuera de los límites de control.\n"
   ]
  },
  {
   "cell_type": "code",
   "execution_count": 9,
   "id": "d067d6e4-52e8-4a40-a8d9-1aff2194ead9",
   "metadata": {},
   "outputs": [],
   "source": [
    "import numpy as np\n",
    "\n",
    "# Cargamos el archivo alcohol_cerveza.csv\n",
    "array = np.loadtxt('alcohol_cerveza.csv', delimiter=',', skiprows=1)\n",
    "\n"
   ]
  },
  {
   "cell_type": "code",
   "execution_count": 10,
   "id": "4daa69b6-0f24-48c7-9c1a-3d6689e9e61d",
   "metadata": {},
   "outputs": [
    {
     "name": "stdout",
     "output_type": "stream",
     "text": [
      "Media: 5.01034\n"
     ]
    }
   ],
   "source": [
    "# Calculamos la media\n",
    "media = np.mean(array)\n",
    "print(\"Media: \" + str(media))\n",
    "\n"
   ]
  },
  {
   "cell_type": "code",
   "execution_count": 11,
   "id": "cada4a43-16a6-4ce3-86c0-808ca49ce9f0",
   "metadata": {},
   "outputs": [
    {
     "name": "stdout",
     "output_type": "stream",
     "text": [
      "Desviación Estándar: 0.31158992987579043\n"
     ]
    }
   ],
   "source": [
    "# Calculamos la desviación estándar\n",
    "desviacion_estandar = np.std(array)\n",
    "print(\"Desviación Estándar: \" + str(desviacion_estandar))"
   ]
  },
  {
   "cell_type": "code",
   "execution_count": 12,
   "id": "fe2f8d9d-6b12-4a2b-b3b2-68f5b23d7e8b",
   "metadata": {},
   "outputs": [
    {
     "name": "stdout",
     "output_type": "stream",
     "text": [
      "LIC: 4.075570210372629\n",
      "LSC: 5.945109789627372\n"
     ]
    }
   ],
   "source": [
    "# Calculamos el LIC y LSC\n",
    "LIC = media - (3 * desviacion_estandar)\n",
    "print(\"LIC: \" + str(LIC))\n",
    "\n",
    "LSC = media + (3 * desviacion_estandar)\n",
    "print(\"LSC: \" + str(LSC))\n"
   ]
  },
  {
   "cell_type": "code",
   "execution_count": 21,
   "id": "27165dfb-ce9d-4b8e-b172-a3b7399e8440",
   "metadata": {},
   "outputs": [
    {
     "name": "stdout",
     "output_type": "stream",
     "text": [
      "Valores fuera de los límites de control son: [3.87 6.02]\n"
     ]
    }
   ],
   "source": [
    "# Filtramos los valores fuera del rango\n",
    "valores_fuera = array[np.logical_or(array < LIC, array > LSC)] # Damos dos condiciones para filtrar el array\n",
    "print(\"Los valores fuera de los límites de control son: \" + str(valores_fuera))\n"
   ]
  }
 ],
 "metadata": {
  "kernelspec": {
   "display_name": "Python 3 (ipykernel)",
   "language": "python",
   "name": "python3"
  },
  "language_info": {
   "codemirror_mode": {
    "name": "ipython",
    "version": 3
   },
   "file_extension": ".py",
   "mimetype": "text/x-python",
   "name": "python",
   "nbconvert_exporter": "python",
   "pygments_lexer": "ipython3",
   "version": "3.12.7"
  }
 },
 "nbformat": 4,
 "nbformat_minor": 5
}
