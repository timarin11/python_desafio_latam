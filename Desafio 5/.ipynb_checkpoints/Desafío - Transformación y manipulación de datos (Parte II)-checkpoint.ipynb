{
 "cells": [
  {
   "cell_type": "markdown",
   "id": "52928e1e-bc74-4096-a993-342f75f7cd7f",
   "metadata": {},
   "source": [
    "## Objetivo del desafío\n",
    "La empresa ADL se dedica a la venta de productos a nivel regional en los Estados Unidos,\n",
    "con equipos de ventas que operan en diferentes estados. La compañía ha establecido un\n",
    "sistema de comisiones para incentivar a sus equipos de ventas a preferir la venta de\n",
    "productos de alto margen antes que los de bajo margen de utilidad.\n",
    "\n",
    "Como Analista de Datos, le solicitan analizar información sobre las ventas realizadas por\n",
    "los equipos de ventas de ADL, incluyendo detalles sobre los productos vendidos, los\n",
    "clientes, las fechas de los pedidos y los plazos de entrega.\n",
    "\n",
    "Para resolver este desafío deberás cargar datos desde Hojas de Excel del archivo\n",
    "US_Regional_Sales_Data.xlsx. En base a esto, debe generar una visualización de datos\n",
    "como la que se muestra en las hojas Reporte1 y Reporte2 del archivo reporte.xlsx.\n",
    "\n"
   ]
  },
  {
   "cell_type": "markdown",
   "id": "d6680776-5725-4559-bd29-e0d21ed76246",
   "metadata": {},
   "source": [
    "## 1. Carga los datos de cada pestaña \n",
    "del archivo US_Regional_Sales_Data.xlsx en un DataFrame independiente. (hint: Puedes obtener los nombres de las hojas usando pd.ExcelFile(archivo).sheet_names)\n"
   ]
  },
  {
   "cell_type": "code",
   "execution_count": 3,
   "id": "b1a59699-01be-4578-9ae7-d339c97a85f2",
   "metadata": {},
   "outputs": [],
   "source": [
    "import pandas as pd\n",
    "\n",
    "#Cargar archivo\n",
    "archivo_desafio = \"US_Regional_Sales_Data.xlsx\"\n",
    "\n",
    "excel_file = pd.ExcelFile(archivo_desafio)"
   ]
  },
  {
   "cell_type": "code",
   "execution_count": 4,
   "id": "93345690-3724-4c89-99de-9d51fe0a3a26",
   "metadata": {},
   "outputs": [
    {
     "name": "stdout",
     "output_type": "stream",
     "text": [
      "Hojas disponibles: ['Sales Orders Sheet', 'Customers Sheet', 'Store Locations Sheet', 'Products Sheet', 'Sales Team Sheet']\n"
     ]
    }
   ],
   "source": [
    "#Explorar archivo\n",
    "print(\"Hojas disponibles:\", excel_file.sheet_names)\n"
   ]
  },
  {
   "cell_type": "code",
   "execution_count": 5,
   "id": "db263af0-88b2-4afa-961a-0be3661bb556",
   "metadata": {},
   "outputs": [],
   "source": [
    "# Cargar cada hoja en un DataFrame independiente\n",
    "df_sales_orders = pd.read_excel(archivo_desafio, sheet_name=\"Sales Orders Sheet\")\n",
    "df_customers = pd.read_excel(archivo_desafio, sheet_name=\"Customers Sheet\")\n",
    "df_store_locations = pd.read_excel(archivo_desafio, sheet_name=\"Store Locations Sheet\")\n",
    "df_products = pd.read_excel(archivo_desafio, sheet_name=\"Products Sheet\")\n",
    "df_sales_team = pd.read_excel(archivo_desafio, sheet_name=\"Sales Team Sheet\")\n",
    "\n"
   ]
  },
  {
   "cell_type": "markdown",
   "id": "3be30ce2-2f36-4e1d-ac6b-5b35855caa67",
   "metadata": {},
   "source": [
    "## 2. Cruza todos los DataFrames \n",
    "usando validación many_to_one, y guarda el resultado en una nueva variable llamada df_base.\n"
   ]
  },
  {
   "cell_type": "code",
   "execution_count": 7,
   "id": "a2cd4316-449e-42ed-a06f-eb401a659a6a",
   "metadata": {},
   "outputs": [
    {
     "name": "stdout",
     "output_type": "stream",
     "text": [
      "La columna comun es: {'_CustomerID'}\n",
      "La columna comun es: {'_StoreID'}\n",
      "La columna comun es: {'_ProductID'}\n",
      "La columna comun es: {'_SalesTeamID'}\n"
     ]
    }
   ],
   "source": [
    "# \"Sales orders es la hoja principal que posee informacion vinculada a las otras pestañas\n",
    "# Identificar la columna  en comun con todos los dataframes para unirlas\n",
    "common_columns = set(df_sales_orders.columns) & set(df_customers.columns) #Interseccion de nombres de columnas en un set\n",
    "print(\"La columna comun es:\", common_columns)\n",
    "common_columns = set(df_sales_orders.columns) & set(df_store_locations.columns) #Interseccion de nombres de columnas en un set\n",
    "print(\"La columna comun es:\", common_columns)\n",
    "common_columns = set(df_sales_orders.columns) & set(df_products.columns) #Interseccion de nombres de columnas en un set\n",
    "print(\"La columna comun es:\", common_columns)\n",
    "common_columns = set(df_sales_orders.columns) & set(df_sales_team.columns) #Interseccion de nombres de columnas en un set\n",
    "print(\"La columna comun es:\", common_columns)\n"
   ]
  },
  {
   "cell_type": "code",
   "execution_count": 8,
   "id": "7d9634d7-523c-4e9f-ad7d-91295f1102ff",
   "metadata": {},
   "outputs": [
    {
     "data": {
      "text/html": [
       "<div>\n",
       "<style scoped>\n",
       "    .dataframe tbody tr th:only-of-type {\n",
       "        vertical-align: middle;\n",
       "    }\n",
       "\n",
       "    .dataframe tbody tr th {\n",
       "        vertical-align: top;\n",
       "    }\n",
       "\n",
       "    .dataframe thead th {\n",
       "        text-align: right;\n",
       "    }\n",
       "</style>\n",
       "<table border=\"1\" class=\"dataframe\">\n",
       "  <thead>\n",
       "    <tr style=\"text-align: right;\">\n",
       "      <th></th>\n",
       "      <th>OrderNumber</th>\n",
       "      <th>Sales Channel</th>\n",
       "      <th>WarehouseCode</th>\n",
       "      <th>ProcuredDate</th>\n",
       "      <th>OrderDate</th>\n",
       "      <th>ShipDate</th>\n",
       "      <th>DeliveryDate</th>\n",
       "      <th>CurrencyCode</th>\n",
       "      <th>_SalesTeamID</th>\n",
       "      <th>_CustomerID</th>\n",
       "      <th>...</th>\n",
       "      <th>AreaCode</th>\n",
       "      <th>Population</th>\n",
       "      <th>Household Income</th>\n",
       "      <th>Median Income</th>\n",
       "      <th>Land Area</th>\n",
       "      <th>Water Area</th>\n",
       "      <th>Time Zone</th>\n",
       "      <th>Product Name</th>\n",
       "      <th>Sales Team</th>\n",
       "      <th>Region</th>\n",
       "    </tr>\n",
       "  </thead>\n",
       "  <tbody>\n",
       "    <tr>\n",
       "      <th>0</th>\n",
       "      <td>SO - 000101</td>\n",
       "      <td>In-Store</td>\n",
       "      <td>WARE-UHY1004</td>\n",
       "      <td>2017-12-31</td>\n",
       "      <td>2018-05-31</td>\n",
       "      <td>2018-06-14</td>\n",
       "      <td>2018-06-19</td>\n",
       "      <td>USD</td>\n",
       "      <td>6</td>\n",
       "      <td>15</td>\n",
       "      <td>...</td>\n",
       "      <td>631</td>\n",
       "      <td>213776</td>\n",
       "      <td>68789</td>\n",
       "      <td>80327</td>\n",
       "      <td>135481314</td>\n",
       "      <td>160302131</td>\n",
       "      <td>America/New York</td>\n",
       "      <td>Dining Furniture</td>\n",
       "      <td>Joshua Bennett</td>\n",
       "      <td>Northeast</td>\n",
       "    </tr>\n",
       "    <tr>\n",
       "      <th>1</th>\n",
       "      <td>SO - 000102</td>\n",
       "      <td>Online</td>\n",
       "      <td>WARE-NMK1003</td>\n",
       "      <td>2017-12-31</td>\n",
       "      <td>2018-05-31</td>\n",
       "      <td>2018-06-22</td>\n",
       "      <td>2018-07-02</td>\n",
       "      <td>USD</td>\n",
       "      <td>14</td>\n",
       "      <td>20</td>\n",
       "      <td>...</td>\n",
       "      <td>913</td>\n",
       "      <td>186515</td>\n",
       "      <td>74830</td>\n",
       "      <td>72463</td>\n",
       "      <td>194562941</td>\n",
       "      <td>1309517</td>\n",
       "      <td>America/Chicago</td>\n",
       "      <td>Wreaths</td>\n",
       "      <td>Paul Holmes</td>\n",
       "      <td>Midwest</td>\n",
       "    </tr>\n",
       "    <tr>\n",
       "      <th>2</th>\n",
       "      <td>SO - 000103</td>\n",
       "      <td>Distributor</td>\n",
       "      <td>WARE-UHY1004</td>\n",
       "      <td>2017-12-31</td>\n",
       "      <td>2018-05-31</td>\n",
       "      <td>2018-06-21</td>\n",
       "      <td>2018-07-01</td>\n",
       "      <td>USD</td>\n",
       "      <td>21</td>\n",
       "      <td>16</td>\n",
       "      <td>...</td>\n",
       "      <td>734</td>\n",
       "      <td>117070</td>\n",
       "      <td>47179</td>\n",
       "      <td>55990</td>\n",
       "      <td>72727009</td>\n",
       "      <td>2254528</td>\n",
       "      <td>America/Detroit</td>\n",
       "      <td>Stemware</td>\n",
       "      <td>Samuel Fowler</td>\n",
       "      <td>Midwest</td>\n",
       "    </tr>\n",
       "    <tr>\n",
       "      <th>3</th>\n",
       "      <td>SO - 000104</td>\n",
       "      <td>Wholesale</td>\n",
       "      <td>WARE-NMK1003</td>\n",
       "      <td>2017-12-31</td>\n",
       "      <td>2018-05-31</td>\n",
       "      <td>2018-06-02</td>\n",
       "      <td>2018-06-07</td>\n",
       "      <td>USD</td>\n",
       "      <td>28</td>\n",
       "      <td>48</td>\n",
       "      <td>...</td>\n",
       "      <td>203</td>\n",
       "      <td>130322</td>\n",
       "      <td>49771</td>\n",
       "      <td>37192</td>\n",
       "      <td>48407373</td>\n",
       "      <td>3739487</td>\n",
       "      <td>America/New York</td>\n",
       "      <td>Accessories</td>\n",
       "      <td>Carlos Miller</td>\n",
       "      <td>West</td>\n",
       "    </tr>\n",
       "    <tr>\n",
       "      <th>4</th>\n",
       "      <td>SO - 000105</td>\n",
       "      <td>Distributor</td>\n",
       "      <td>WARE-NMK1003</td>\n",
       "      <td>2018-04-10</td>\n",
       "      <td>2018-05-31</td>\n",
       "      <td>2018-06-16</td>\n",
       "      <td>2018-06-26</td>\n",
       "      <td>USD</td>\n",
       "      <td>22</td>\n",
       "      <td>49</td>\n",
       "      <td>...</td>\n",
       "      <td>203</td>\n",
       "      <td>108802</td>\n",
       "      <td>40213</td>\n",
       "      <td>40467</td>\n",
       "      <td>73880017</td>\n",
       "      <td>1086045</td>\n",
       "      <td>America/New York</td>\n",
       "      <td>Candles</td>\n",
       "      <td>Joe Price</td>\n",
       "      <td>Northeast</td>\n",
       "    </tr>\n",
       "  </tbody>\n",
       "</table>\n",
       "<p>5 rows × 34 columns</p>\n",
       "</div>"
      ],
      "text/plain": [
       "   OrderNumber Sales Channel WarehouseCode ProcuredDate  OrderDate   ShipDate  \\\n",
       "0  SO - 000101      In-Store  WARE-UHY1004   2017-12-31 2018-05-31 2018-06-14   \n",
       "1  SO - 000102        Online  WARE-NMK1003   2017-12-31 2018-05-31 2018-06-22   \n",
       "2  SO - 000103   Distributor  WARE-UHY1004   2017-12-31 2018-05-31 2018-06-21   \n",
       "3  SO - 000104     Wholesale  WARE-NMK1003   2017-12-31 2018-05-31 2018-06-02   \n",
       "4  SO - 000105   Distributor  WARE-NMK1003   2018-04-10 2018-05-31 2018-06-16   \n",
       "\n",
       "  DeliveryDate CurrencyCode  _SalesTeamID  _CustomerID  ...  AreaCode  \\\n",
       "0   2018-06-19          USD             6           15  ...       631   \n",
       "1   2018-07-02          USD            14           20  ...       913   \n",
       "2   2018-07-01          USD            21           16  ...       734   \n",
       "3   2018-06-07          USD            28           48  ...       203   \n",
       "4   2018-06-26          USD            22           49  ...       203   \n",
       "\n",
       "   Population  Household Income  Median Income  Land Area  Water Area  \\\n",
       "0      213776             68789          80327  135481314   160302131   \n",
       "1      186515             74830          72463  194562941     1309517   \n",
       "2      117070             47179          55990   72727009     2254528   \n",
       "3      130322             49771          37192   48407373     3739487   \n",
       "4      108802             40213          40467   73880017     1086045   \n",
       "\n",
       "          Time Zone      Product Name      Sales Team     Region  \n",
       "0  America/New York  Dining Furniture  Joshua Bennett  Northeast  \n",
       "1   America/Chicago           Wreaths     Paul Holmes    Midwest  \n",
       "2   America/Detroit          Stemware   Samuel Fowler    Midwest  \n",
       "3  America/New York       Accessories   Carlos Miller       West  \n",
       "4  America/New York           Candles       Joe Price  Northeast  \n",
       "\n",
       "[5 rows x 34 columns]"
      ]
     },
     "execution_count": 8,
     "metadata": {},
     "output_type": "execute_result"
    }
   ],
   "source": [
    "# Unir tablas una por una usando los IDs correspondientes\n",
    "df_base = (\n",
    "    df_sales_orders # Pestaña principal\n",
    "    .merge(df_customers, left_on=\"_CustomerID\", right_on=\"_CustomerID\", validate=\"many_to_one\")\n",
    "    .merge(df_store_locations, left_on=\"_StoreID\", right_on=\"_StoreID\", validate=\"many_to_one\")\n",
    "    .merge(df_products, left_on=\"_ProductID\", right_on=\"_ProductID\", validate=\"many_to_one\")\n",
    "    .merge(df_sales_team, left_on=\"_SalesTeamID\", right_on=\"_SalesTeamID\", validate=\"many_to_one\")\n",
    ")\n",
    "df_base.head(5)"
   ]
  },
  {
   "cell_type": "markdown",
   "id": "79c59432-ec9a-4499-993b-3a79b584bd70",
   "metadata": {},
   "source": [
    "## 3. Agrega las siguientes columnas a df_ base:\n"
   ]
  },
  {
   "cell_type": "code",
   "execution_count": 10,
   "id": "cb1fb933-e6b2-46f8-8f5a-51b0c1f3d0d0",
   "metadata": {},
   "outputs": [
    {
     "name": "stdout",
     "output_type": "stream",
     "text": [
      "      OrderDate ProcuredDate   ShipDate DeliveryDate\n",
      "0    2018-05-31   2017-12-31 2018-06-14   2018-06-19\n",
      "1    2018-05-31   2017-12-31 2018-06-22   2018-07-02\n",
      "2    2018-05-31   2017-12-31 2018-06-21   2018-07-01\n",
      "3    2018-05-31   2017-12-31 2018-06-02   2018-06-07\n",
      "4    2018-05-31   2018-04-10 2018-06-16   2018-06-26\n",
      "...         ...          ...        ...          ...\n",
      "7986 2020-12-30   2020-09-26 2021-01-07   2021-01-14\n",
      "7987 2020-12-30   2020-09-26 2021-01-02   2021-01-04\n",
      "7988 2020-12-30   2020-09-26 2021-01-23   2021-01-26\n",
      "7989 2020-12-30   2020-09-26 2021-01-20   2021-01-25\n",
      "7990 2020-12-30   2020-09-26 2021-01-13   2021-01-19\n",
      "\n",
      "[7991 rows x 4 columns]\n"
     ]
    }
   ],
   "source": [
    "#Asegurar que las fechas esten en formato datetime\n",
    "col_fechas = [\"OrderDate\", \"ProcuredDate\", \"ShipDate\", \"DeliveryDate\"]\n",
    "df_base[col_fechas] = df_base[col_fechas].apply(pd.to_datetime) # Tipo datetime queda en  formato Año-mes-dia\n",
    "print(df_base[col_fechas])\n"
   ]
  },
  {
   "cell_type": "code",
   "execution_count": 11,
   "id": "cf037c83-5a90-4707-a509-c4b741bdfe48",
   "metadata": {
    "scrolled": true
   },
   "outputs": [
    {
     "name": "stdout",
     "output_type": "stream",
     "text": [
      "     ProcurementDays ShippingDays DeliveryDays CustomerDays\n",
      "0           151 days      14 days       5 days      19 days\n",
      "1           151 days      22 days      10 days      32 days\n",
      "2           151 days      21 days      10 days      31 days\n",
      "3           151 days       2 days       5 days       7 days\n",
      "4            51 days      16 days      10 days      26 days\n",
      "...              ...          ...          ...          ...\n",
      "7986         95 days       8 days       7 days      15 days\n",
      "7987         95 days       3 days       2 days       5 days\n",
      "7988         95 days      24 days       3 days      27 days\n",
      "7989         95 days      21 days       5 days      26 days\n",
      "7990         95 days      14 days       6 days      20 days\n",
      "\n",
      "[7991 rows x 4 columns]\n"
     ]
    }
   ],
   "source": [
    "# Calcular diferencias de días (objetos timedelta)\n",
    "df_base[\"ProcurementDays\"] = df_base[\"OrderDate\"] - df_base[\"ProcuredDate\"]\n",
    "df_base[\"ShippingDays\"] = df_base[\"ShipDate\"] - df_base[\"OrderDate\"]\n",
    "df_base[\"DeliveryDays\"] = df_base[\"DeliveryDate\"] - df_base[\"ShipDate\"]\n",
    "df_base[\"CustomerDays\"] = df_base[\"ShippingDays\"] + df_base[\"DeliveryDays\"]\n",
    "\n",
    "delta_fechas = [\"ProcurementDays\", \"ShippingDays\", \"DeliveryDays\", \"CustomerDays\"]\n",
    "print(df_base[delta_fechas])"
   ]
  },
  {
   "cell_type": "markdown",
   "id": "c2dbedb4-0c8f-4cb8-8273-f2bfddfdb8bc",
   "metadata": {},
   "source": [
    "## 4. Agrega una nueva columna discreta al df_base,\n",
    "con el nombre CustomerDaysInterval que clasifique los valores de la columna CustomerDays en los siguientes intervalos:\n",
    "○ 0 to 15 days\n",
    "○ 15 to 30 days\n",
    "○ 30 to 45 days\n",
    "○ 45 to 60 days\n",
    "○ 60 to 75 days\n",
    "○ 75 to 90 days\n"
   ]
  },
  {
   "cell_type": "code",
   "execution_count": 13,
   "id": "e60c0316-fc52-4e48-b048-128b33e0bf72",
   "metadata": {},
   "outputs": [
    {
     "name": "stdout",
     "output_type": "stream",
     "text": [
      "0       19\n",
      "1       32\n",
      "2       31\n",
      "3        7\n",
      "4       26\n",
      "        ..\n",
      "7986    15\n",
      "7987     5\n",
      "7988    27\n",
      "7989    26\n",
      "7990    20\n",
      "Name: CustomerDaysNum, Length: 7991, dtype: int64\n"
     ]
    }
   ],
   "source": [
    "# Convertir días a número enteros los días de customer days (tiempo de envio total)\n",
    "df_base[\"CustomerDaysNum\"] = df_base[\"CustomerDays\"].dt.days\n",
    "print(df_base[\"CustomerDaysNum\"])"
   ]
  },
  {
   "cell_type": "code",
   "execution_count": 14,
   "id": "5ef1ceba-aeaa-4335-8df1-f2c93ec5cbea",
   "metadata": {},
   "outputs": [],
   "source": [
    "#Definir intervalos y etiquetas para clasificar los customer days  \n",
    "intervalos = [0, 15, 30, 45, 60, 75, 90]\n",
    "etiquetas = [\"0 to 15 days\", \"15 to 30 days\", \"30 to 45 days\", \n",
    "          \"45 to 60 days\", \"60 to 75 days\", \"75 to 90 days\"]\n",
    "\n",
    "df_base[\"CustomerDaysInterval\"] = pd.cut(\n",
    "    df_base[\"CustomerDaysNum\"],\n",
    "    bins=intervalos,\n",
    "    labels=etiquetas,\n",
    "    right=True, #No se incluye el valor superiro del intervalo\n",
    "    include_lowest=False \n",
    ")"
   ]
  },
  {
   "cell_type": "markdown",
   "id": "49341037-ffff-4f90-bb7f-356e19ae55f6",
   "metadata": {},
   "source": [
    "## 5. Utiliza una tabla pivote para mostrar el conteo de órdenes\n",
    "agrupando por Sales Team en las filas y CustomerDaysInterval en las columnas. Este reporte debe\n",
    "cuadrar con los datos de la pestaña Reporte1 del archivo reportes.xlsx"
   ]
  },
  {
   "cell_type": "code",
   "execution_count": 16,
   "id": "20f43eca-8a8f-4048-bfb3-eb93d2fea509",
   "metadata": {
    "scrolled": true
   },
   "outputs": [
    {
     "name": "stdout",
     "output_type": "stream",
     "text": [
      "Sales Team\n",
      "Adam Hernandez          81\n",
      "Anthony Berry           76\n",
      "Anthony Torres          81\n",
      "Carl Nguyen             96\n",
      "Carlos Miller           65\n",
      "Chris Armstrong         92\n",
      "Donald Reynolds         97\n",
      "Douglas Tucker          87\n",
      "Frank Brown             85\n",
      "George Lewis           104\n",
      "Jerry Green             85\n",
      "Joe Price               87\n",
      "Jonathan Hawkins        81\n",
      "Joshua Bennett          85\n",
      "Joshua Little           83\n",
      "Joshua Ryan             83\n",
      "Keith Griffin           94\n",
      "Nicholas Cunningham     88\n",
      "Patrick Graham          92\n",
      "Paul Holmes             61\n",
      "Roger Alexander         82\n",
      "Roy Rice                75\n",
      "Samuel Fowler           90\n",
      "Shawn Cook              88\n",
      "Shawn Torres            77\n",
      "Shawn Wallace           95\n",
      "Stephen Payne           97\n",
      "Todd Roberts           113\n",
      "Name: count, dtype: int64\n"
     ]
    }
   ],
   "source": [
    "# Calculo manual para corroborar valores\n",
    "menos_15_dias = df_base[df_base[\"CustomerDaysNum\"] <= 15]\n",
    "print(menos_15_dias['Sales Team'].value_counts().sort_index())"
   ]
  },
  {
   "cell_type": "code",
   "execution_count": 17,
   "id": "ae6b1430-cd3e-42bf-ba57-a5c6f59b70ff",
   "metadata": {},
   "outputs": [
    {
     "name": "stdout",
     "output_type": "stream",
     "text": [
      "Sales Team\n",
      "Adam Hernandez          81\n",
      "Anthony Berry           76\n",
      "Anthony Torres          81\n",
      "Carl Nguyen             96\n",
      "Carlos Miller           65\n",
      "Chris Armstrong         92\n",
      "Donald Reynolds         97\n",
      "Douglas Tucker          87\n",
      "Frank Brown             85\n",
      "George Lewis           104\n",
      "Jerry Green             85\n",
      "Joe Price               87\n",
      "Jonathan Hawkins        81\n",
      "Joshua Bennett          85\n",
      "Joshua Little           83\n",
      "Joshua Ryan             83\n",
      "Keith Griffin           94\n",
      "Nicholas Cunningham     88\n",
      "Patrick Graham          92\n",
      "Paul Holmes             61\n",
      "Roger Alexander         82\n",
      "Roy Rice                75\n",
      "Samuel Fowler           90\n",
      "Shawn Cook              88\n",
      "Shawn Torres            77\n",
      "Shawn Wallace           95\n",
      "Stephen Payne           97\n",
      "Todd Roberts           113\n",
      "Name: count, dtype: int64\n"
     ]
    }
   ],
   "source": [
    "# Calculo manual para corroborar clasificacion\n",
    "menos_15_dias = df_base[df_base[\"CustomerDaysInterval\"] == \"0 to 15 days\"]\n",
    "print(menos_15_dias['Sales Team'].value_counts().sort_index())\n",
    "#Esto revelo un error en la clasificacion en pd.cut (right=true)"
   ]
  },
  {
   "cell_type": "code",
   "execution_count": 18,
   "id": "082f7540-dc13-4170-810f-9b1b516e28f8",
   "metadata": {},
   "outputs": [
    {
     "name": "stdout",
     "output_type": "stream",
     "text": [
      "CustomerDaysInterval  0 to 15 days  15 to 30 days  30 to 45 days  \\\n",
      "Sales Team                                                         \n",
      "Adam Hernandez                  81            179             42   \n",
      "Anthony Berry                   76            181             41   \n",
      "Anthony Torres                  81            162             45   \n",
      "Carl Nguyen                     96            178             40   \n",
      "Carlos Miller                   65            148             34   \n",
      "Chris Armstrong                 92            156             44   \n",
      "Donald Reynolds                 97            163             36   \n",
      "Douglas Tucker                  87            145             45   \n",
      "Frank Brown                     85            150             40   \n",
      "George Lewis                   104            169             42   \n",
      "Jerry Green                     85            165             46   \n",
      "Joe Price                       87            138             41   \n",
      "Jonathan Hawkins                81            143             36   \n",
      "Joshua Bennett                  85            148             32   \n",
      "Joshua Little                   83            165             41   \n",
      "Joshua Ryan                     83            166             36   \n",
      "Keith Griffin                   94            127             25   \n",
      "Nicholas Cunningham             88            171             34   \n",
      "Patrick Graham                  92            130             37   \n",
      "Paul Holmes                     61            159             41   \n",
      "Roger Alexander                 82            147             42   \n",
      "Roy Rice                        75            166             43   \n",
      "Samuel Fowler                   90            162             44   \n",
      "Shawn Cook                      88            175             40   \n",
      "Shawn Torres                    77            160             37   \n",
      "Shawn Wallace                   95            168             53   \n",
      "Stephen Payne                   97            156             30   \n",
      "Todd Roberts                   113            187             40   \n",
      "\n",
      "CustomerDaysInterval  45 to 60 days  60 to 75 days  75 to 90 days  \n",
      "Sales Team                                                         \n",
      "Adam Hernandez                    0              0              0  \n",
      "Anthony Berry                     0              0              0  \n",
      "Anthony Torres                    0              0              0  \n",
      "Carl Nguyen                       0              0              0  \n",
      "Carlos Miller                     0              0              0  \n",
      "Chris Armstrong                   0              0              0  \n",
      "Donald Reynolds                   0              0              0  \n",
      "Douglas Tucker                    0              0              0  \n",
      "Frank Brown                       0              0              0  \n",
      "George Lewis                      0              0              0  \n",
      "Jerry Green                       0              0              0  \n",
      "Joe Price                         0              0              0  \n",
      "Jonathan Hawkins                  0              0              0  \n",
      "Joshua Bennett                    0              0              0  \n",
      "Joshua Little                     0              0              0  \n",
      "Joshua Ryan                       0              0              0  \n",
      "Keith Griffin                     0              0              0  \n",
      "Nicholas Cunningham               0              0              0  \n",
      "Patrick Graham                    0              0              0  \n",
      "Paul Holmes                       0              0              0  \n",
      "Roger Alexander                   0              0              0  \n",
      "Roy Rice                          0              0              0  \n",
      "Samuel Fowler                     0              0              0  \n",
      "Shawn Cook                        0              0              0  \n",
      "Shawn Torres                      0              0              0  \n",
      "Shawn Wallace                     0              0              0  \n",
      "Stephen Payne                     0              0              0  \n",
      "Todd Roberts                      0              0              0  \n"
     ]
    },
    {
     "name": "stderr",
     "output_type": "stream",
     "text": [
      "C:\\Users\\Legion\\AppData\\Local\\Temp\\ipykernel_14468\\56129326.py:1: FutureWarning: The default value of observed=False is deprecated and will change to observed=True in a future version of pandas. Specify observed=False to silence this warning and retain the current behavior\n",
      "  pivot_ordenes = pd.pivot_table(\n"
     ]
    }
   ],
   "source": [
    "pivot_ordenes = pd.pivot_table(\n",
    "    df_base,\n",
    "    index=\"Sales Team\",             \n",
    "    columns=\"CustomerDaysInterval\", \n",
    "    values=\"OrderNumber\",           \n",
    "    aggfunc=\"count\",                \n",
    ")\n",
    "\n",
    "print(pivot_ordenes)\n"
   ]
  },
  {
   "cell_type": "markdown",
   "id": "6c241c16-d8e8-401a-90d1-10c3718e25ce",
   "metadata": {},
   "source": [
    "## 6. Agrega la siguiente columna calculada a la base:\n",
    "KPI Cálculo\n"
   ]
  },
  {
   "cell_type": "code",
   "execution_count": 20,
   "id": "6fd87295-dbf2-4dd2-93fd-f02bffdb74e5",
   "metadata": {
    "scrolled": true
   },
   "outputs": [
    {
     "name": "stdout",
     "output_type": "stream",
     "text": [
      "0       4073.4325\n",
      "1        886.4100\n",
      "2        905.5050\n",
      "3       5486.7640\n",
      "4       1312.1280\n",
      "          ...    \n",
      "7986      94.9725\n",
      "7987    6725.4600\n",
      "7988    1338.9950\n",
      "7989    1286.4000\n",
      "7990    3371.7750\n",
      "Name: GrossMargin, Length: 7991, dtype: float64\n"
     ]
    }
   ],
   "source": [
    "df_base[\"GrossMargin\"] = (\n",
    "    df_base[\"Order Quantity\"] * (df_base[\"Unit Price\"] * (1 - df_base[\"Discount Applied\"]) - df_base[\"Unit Cost\"])\n",
    ")\n",
    "print(df_base[\"GrossMargin\"])"
   ]
  },
  {
   "cell_type": "markdown",
   "id": "efec8f04-7df2-4ac5-915a-d1c73ebe6bb8",
   "metadata": {},
   "source": [
    "## 7. En esta parte debes aplicar un porcentaje a la columna GrossMargin, \n",
    "pero ese porcentaje dependerá del intervalo en que se encuentre GrossMargin\n"
   ]
  },
  {
   "cell_type": "code",
   "execution_count": 22,
   "id": "d0a61f9f-6a1d-4704-a4b2-4d9d4b2a89b0",
   "metadata": {},
   "outputs": [
    {
     "name": "stdout",
     "output_type": "stream",
     "text": [
      "   GrossMargin  CommissionsPercentage  CommissionAmount\n",
      "0    4073.4325                   0.15        611.014875\n",
      "1     886.4100                   0.10         88.641000\n",
      "2     905.5050                   0.10         90.550500\n",
      "3    5486.7640                   0.15        823.014600\n",
      "4    1312.1280                   0.15        196.819200\n"
     ]
    }
   ],
   "source": [
    "# Clasificar el margen bruto de acuerdo a los intervalos del anexo\n",
    "gm_intervalos = [0, 100, 1000, 10000, 100000]\n",
    "gm_etiuquetas = [0.05, 0.10, 0.15, 0.20]  # porcentajes en decimal para poder hacer calculos\n",
    "\n",
    "df_base[\"CommissionsPercentage\"] = pd.cut(\n",
    "    df_base[\"GrossMargin\"],\n",
    "    bins=gm_intervalos,\n",
    "    labels=gm_etiuquetas,\n",
    "    right=False,         # incluye el límite inferior, excluye el superior\n",
    "    include_lowest=True\n",
    ").astype(float)\n",
    "\n",
    "# Calcular la comisión final\n",
    "df_base[\"CommissionAmount\"] = df_base[\"GrossMargin\"] * df_base[\"CommissionsPercentage\"]\n",
    "\n",
    "# Verificar primeras filas\n",
    "print(df_base[[\"GrossMargin\", \"CommissionsPercentage\", \"CommissionAmount\"]].head())\n"
   ]
  },
  {
   "cell_type": "markdown",
   "id": "73056e77-dad3-4af4-bf53-9b2bd6056d61",
   "metadata": {},
   "source": [
    "## 8. Calcula el monto de la comisión, utilizando la Tabla del Anexo."
   ]
  },
  {
   "cell_type": "code",
   "execution_count": 24,
   "id": "367e5d95-bd9f-4f43-aaad-38497fd97237",
   "metadata": {},
   "outputs": [
    {
     "name": "stdout",
     "output_type": "stream",
     "text": [
      "   GrossMargin  CommissionsPercentage  CommissionAmount\n",
      "0    4073.4325                   0.15        611.014875\n",
      "1     886.4100                   0.10         88.641000\n",
      "2     905.5050                   0.10         90.550500\n",
      "3    5486.7640                   0.15        823.014600\n",
      "4    1312.1280                   0.15        196.819200\n"
     ]
    }
   ],
   "source": [
    "df_base[\"CommissionAmount\"] = df_base[\"GrossMargin\"] * df_base[\"CommissionsPercentage\"]\n",
    "\n",
    "print(df_base[[\"GrossMargin\", \"CommissionsPercentage\", \"CommissionAmount\"]].head())\n"
   ]
  },
  {
   "cell_type": "markdown",
   "id": "319e984b-7deb-4dd2-bf3e-afd46af182d2",
   "metadata": {},
   "source": [
    "## 9. Calcula la comisión sobre el margen bruto.\n"
   ]
  },
  {
   "cell_type": "code",
   "execution_count": 26,
   "id": "8aa16acb-680b-4824-9566-6e133e4b536a",
   "metadata": {},
   "outputs": [
    {
     "name": "stdout",
     "output_type": "stream",
     "text": [
      "   GrossMargin  CommissionsPercentage  CommissionAmount    NetMargin\n",
      "0    4073.4325                   0.15        611.014875  3462.417625\n",
      "1     886.4100                   0.10         88.641000   797.769000\n",
      "2     905.5050                   0.10         90.550500   814.954500\n",
      "3    5486.7640                   0.15        823.014600  4663.749400\n",
      "4    1312.1280                   0.15        196.819200  1115.308800\n"
     ]
    }
   ],
   "source": [
    "df_base[\"NetMargin\"] = df_base[\"GrossMargin\"] - df_base[\"CommissionAmount\"]\n",
    "print(df_base[[\"GrossMargin\", \"CommissionsPercentage\", \"CommissionAmount\", \"NetMargin\"]].head())"
   ]
  },
  {
   "cell_type": "code",
   "execution_count": 27,
   "id": "5d70da72-2ff2-404a-b3c4-cf04314e38b8",
   "metadata": {},
   "outputs": [
    {
     "name": "stdout",
     "output_type": "stream",
     "text": [
      "                     CommissionAmount  GrossMargin  NetMargin\n",
      "Sales Team                                                   \n",
      "Adam Hernandez              126637.21    779095.20  677987.33\n",
      "Anthony Berry               124061.18    767943.95  654798.34\n",
      "Anthony Torres              117962.21    743901.44  636758.05\n",
      "Carl Nguyen                 123843.21    774781.47  661874.73\n",
      "Carlos Miller               110882.09    668752.93  580326.02\n",
      "Chris Armstrong             122565.71    781608.70  660857.42\n",
      "Donald Reynolds             143768.34    885386.81  754038.26\n",
      "Douglas Tucker              120806.40    745528.56  633786.05\n",
      "Frank Brown                 104839.47    670881.25  570076.79\n",
      "George Lewis                136852.26    839150.75  710824.78\n",
      "Jerry Green                 126660.44    788587.76  670379.03\n",
      "Joe Price                   128822.93    787707.44  662662.11\n",
      "Jonathan Hawkins            126216.94    781391.59  664629.88\n",
      "Joshua Bennett              108049.11    661726.54  569242.06\n",
      "Joshua Little               135806.23    840321.17  713901.23\n",
      "Joshua Ryan                 114204.91    702157.82  606904.87\n",
      "Keith Griffin               112940.12    675453.60  599688.29\n",
      "Nicholas Cunningham         127833.00    792644.94  683164.58\n",
      "Patrick Graham              121650.86    746394.00  632286.07\n",
      "Paul Holmes                 114224.89    705564.60  598867.37\n",
      "Roger Alexander             122487.90    773027.68  658323.84\n",
      "Roy Rice                    134547.06    831446.62  706877.20\n",
      "Samuel Fowler               129367.15    793254.88  671208.95\n",
      "Shawn Cook                  135986.30    854878.02  724349.21\n",
      "Shawn Torres                114290.96    705619.61  600950.39\n",
      "Shawn Wallace               116942.05    726737.68  624236.47\n",
      "Stephen Payne               116111.48    707156.79  606241.58\n",
      "Todd Roberts                125832.14    794225.37  692123.62\n"
     ]
    }
   ],
   "source": [
    "# Crear tabla pivote\n",
    "pivot_margenes = pd.pivot_table(\n",
    "    df_base,\n",
    "    index=\"Sales Team\",  \n",
    "    values=[\"GrossMargin\", \"NetMargin\", \"CommissionAmount\"],  \n",
    "    aggfunc=\"sum\"  \n",
    ")\n",
    "\n",
    "# Redondear a 2 decimales\n",
    "pivot_margenes = pivot_margenes.round(2)\n",
    "\n",
    "print(pivot_margenes)\n"
   ]
  },
  {
   "cell_type": "code",
   "execution_count": null,
   "id": "d2b66814-30a3-44f9-8aad-462281bae1de",
   "metadata": {},
   "outputs": [],
   "source": []
  }
 ],
 "metadata": {
  "kernelspec": {
   "display_name": "Python 3 (ipykernel)",
   "language": "python",
   "name": "python3"
  },
  "language_info": {
   "codemirror_mode": {
    "name": "ipython",
    "version": 3
   },
   "file_extension": ".py",
   "mimetype": "text/x-python",
   "name": "python",
   "nbconvert_exporter": "python",
   "pygments_lexer": "ipython3",
   "version": "3.12.7"
  }
 },
 "nbformat": 4,
 "nbformat_minor": 5
}
