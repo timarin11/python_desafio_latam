{
 "cells": [
  {
   "cell_type": "markdown",
   "metadata": {
    "id": "iY1FTVG7m72X"
   },
   "source": [
    "# Clase: 02 - Conociendo Python (Parte 2)\n",
    "\n",
    "Curso: Data Science\n",
    "\n",
    "Módulo: 02 - Programación con Python\n",
    "\n",
    "Instructora: [Daniela Blanco](https://www.linkedin.com/in/danielablanco/)"
   ]
  },
  {
   "cell_type": "markdown",
   "metadata": {
    "id": "hphjnfvUnWAe"
   },
   "source": [
    "## 1. Estructuras de control\n",
    "\n",
    "Las **estructuras de control** son un conjunto de instrucciones que permiten modificar el flujo de ejecución de un programa.\n",
    "\n",
    "En Python, las estructuras de control más comunes son los condicionales y los bucles o ciclos."
   ]
  },
  {
   "cell_type": "markdown",
   "metadata": {
    "id": "acf_5byrThUj"
   },
   "source": [
    "## 2. Condicionales\n",
    "\n",
    "Los **condicionales** permiten que el código se ejecute de manera diferente en función de una condición. Existen varias formas de escribir condicionales en Python: `if`, `else`, `elif`."
   ]
  },
  {
   "cell_type": "markdown",
   "metadata": {
    "id": "Q1hDt4yaWzU3"
   },
   "source": [
    "### Condicional `if`\n",
    "El condicional `if` evalúa una condición, y si esta es verdadera, se ejecuta el bloque de código asociado."
   ]
  },
  {
   "cell_type": "markdown",
   "metadata": {
    "id": "0nsRkINjYXhU"
   },
   "source": [
    "#### Ejemplo 1: Edad"
   ]
  },
  {
   "cell_type": "code",
   "execution_count": 8,
   "metadata": {
    "colab": {
     "base_uri": "https://localhost:8080/"
    },
    "id": "RzbU3FOdYUDD",
    "outputId": "326d0371-6314-4eab-c580-5240737f7989"
   },
   "outputs": [
    {
     "name": "stdout",
     "output_type": "stream",
     "text": [
      "Salio\n"
     ]
    }
   ],
   "source": [
    "edad = 10\n",
    "\n",
    "if edad >= 18:\n",
    "  print(\"Eres mayor de edad.\")\n",
    "  print(\"Eres mayor de edad.\")\n",
    "  print(\"Eres mayor de edad.\")\n",
    "  print(\"Eres mayor de edad.\")\n",
    "\n",
    "print('Salio')"
   ]
  },
  {
   "cell_type": "markdown",
   "metadata": {
    "id": "ZljyecWUYVoD"
   },
   "source": [
    "Si la variable `edad` es mayor o igual a 18, entonces se imprime el mensaje `Eres mayor de edad`."
   ]
  },
  {
   "cell_type": "markdown",
   "metadata": {
    "id": "iNodqTVOWwDC"
   },
   "source": [
    "#### Ejemplo 2: Número par"
   ]
  },
  {
   "cell_type": "code",
   "execution_count": 6,
   "metadata": {
    "colab": {
     "base_uri": "https://localhost:8080/"
    },
    "id": "b_IUyEdBmoWq",
    "outputId": "bbc96fe9-3c2a-4471-9b5d-2e8919a88ed4"
   },
   "outputs": [
    {
     "name": "stdout",
     "output_type": "stream",
     "text": [
      "Ingrese un número: 3\n"
     ]
    }
   ],
   "source": [
    "num = int(input(\"Ingrese un número: \"))\n",
    "\n",
    "if num % 2 == 0:\n",
    "    print(num, \"es un número par\")"
   ]
  },
  {
   "cell_type": "markdown",
   "metadata": {
    "id": "55Jvbd6TXBTJ"
   },
   "source": [
    "### Condicional `if-else`\n",
    "\n",
    "El condicional `if-else` permite ejecutar un bloque de código si la condición es verdadera, y otro bloque si la condición es falsa."
   ]
  },
  {
   "cell_type": "markdown",
   "metadata": {
    "id": "dkhdqGGiYbgc"
   },
   "source": [
    "#### Ejemplo 1: Edad"
   ]
  },
  {
   "cell_type": "code",
   "execution_count": 13,
   "metadata": {
    "colab": {
     "base_uri": "https://localhost:8080/"
    },
    "id": "MioObNPeYe2C",
    "outputId": "6f982cbe-9c65-4a62-8601-3859191e0df0"
   },
   "outputs": [
    {
     "name": "stdout",
     "output_type": "stream",
     "text": [
      "Eres mayor de edad.\n"
     ]
    }
   ],
   "source": [
    "edad = 26\n",
    "\n",
    "if edad >= 18:\n",
    "    print(\"Eres mayor de edad.\")\n",
    "else:\n",
    "    print(\"Eres menor de edad.\")"
   ]
  },
  {
   "cell_type": "markdown",
   "metadata": {
    "id": "mZkBtHFCYgsC"
   },
   "source": [
    "En este caso, si `edad` es menor que 18, se ejecuta el mensaje `Eres menor de edad`."
   ]
  },
  {
   "cell_type": "markdown",
   "metadata": {
    "id": "qAI9OFcHT-TL"
   },
   "source": [
    "#### Ejemplo 2: Número par o impar"
   ]
  },
  {
   "cell_type": "code",
   "execution_count": 15,
   "metadata": {
    "colab": {
     "base_uri": "https://localhost:8080/"
    },
    "id": "yZr5bVg8TzNI",
    "outputId": "b9fbe33c-b9c1-4445-caa3-2da6fbf27feb"
   },
   "outputs": [
    {
     "name": "stdout",
     "output_type": "stream",
     "text": [
      "Ingrese un número: 40\n",
      "40 es un número par\n"
     ]
    }
   ],
   "source": [
    "num = int(input(\"Ingrese un número: \"))\n",
    "\n",
    "if num % 2 == 0:\n",
    "    print(num, \"es un número par\")\n",
    "else:\n",
    "    print(num, \"es un número impar\")"
   ]
  },
  {
   "cell_type": "markdown",
   "metadata": {
    "id": "xw4CSNOzXJdJ"
   },
   "source": [
    "### Condicional `if-elif-else`\n",
    "\n",
    "El condicional `if-elif-else` se utiliza para evaluar múltiples condiciones.\n",
    "\n",
    "Si la primera condición no es verdadera, se evaluarán las siguientes usando `elif` hasta que alguna sea verdadera. Si ninguna lo es, se ejecuta el bloque `else`."
   ]
  },
  {
   "cell_type": "markdown",
   "metadata": {
    "id": "M-kVVQpLYjM-"
   },
   "source": [
    "#### Ejemplo 1: Notas"
   ]
  },
  {
   "cell_type": "code",
   "execution_count": 20,
   "metadata": {
    "colab": {
     "base_uri": "https://localhost:8080/"
    },
    "id": "MU6_07zqYkQy",
    "outputId": "ff032976-8856-4dcb-c8b4-eb11223ccfa0"
   },
   "outputs": [
    {
     "name": "stdout",
     "output_type": "stream",
     "text": [
      "Bien\n"
     ]
    }
   ],
   "source": [
    "nota = 8\n",
    "\n",
    "if nota >= 9:\n",
    "    print(\"Excelente\")\n",
    "elif nota >= 7:\n",
    "    print(\"Bien\")\n",
    "else:\n",
    "    print(\"Necesitas mejorar\")"
   ]
  },
  {
   "cell_type": "markdown",
   "metadata": {
    "id": "JHveiTb3YmBI"
   },
   "source": [
    "En este caso, si `nota` es 7 u 8, el programa imprime `Bien`."
   ]
  },
  {
   "cell_type": "markdown",
   "metadata": {
    "id": "Zc4vsRV0UEt7"
   },
   "source": [
    "#### Ejemplo 2: Números"
   ]
  },
  {
   "cell_type": "code",
   "execution_count": 24,
   "metadata": {
    "colab": {
     "base_uri": "https://localhost:8080/"
    },
    "id": "uDWz5vc9niUd",
    "outputId": "84dc79de-b076-48f8-806e-2f17e47dbfca"
   },
   "outputs": [
    {
     "name": "stdout",
     "output_type": "stream",
     "text": [
      "Ingrese un número: 1\n"
     ]
    }
   ],
   "source": [
    "x = int(input(\"Ingrese un número: \"))\n",
    "\n",
    "if x > 10:\n",
    "    print(\"x es mayor que 10\")\n",
    "elif x > 5:\n",
    "    print(\"x es mayor que 5 pero menor o igual que 10\")\n",
    "elif x > 2:\n",
    "    print(\"x es mayor que 2 pero menor o igual que 5\")"
   ]
  },
  {
   "cell_type": "markdown",
   "metadata": {
    "id": "T3SlNGSXUYpV"
   },
   "source": [
    "**TIP**: Es importante considerar que, para verificar una variable booleana, no es necesario utilizar un operador de comparación, sino que basta con poner la variable."
   ]
  },
  {
   "cell_type": "code",
   "execution_count": 31,
   "metadata": {
    "id": "Ew97LbFnnuBs"
   },
   "outputs": [],
   "source": [
    "variable_booleana = 1 # True\n",
    "\n",
    "if variable_booleana:\n",
    "    print(variable_booleana)"
   ]
  },
  {
   "cell_type": "markdown",
   "metadata": {
    "id": "yXJIjMqxYJXt"
   },
   "source": [
    "### Condicionales anidados\n",
    "\n",
    "Los **condicionales anidados** son estructuras donde se coloca un condicional dentro de otro."
   ]
  },
  {
   "cell_type": "code",
   "execution_count": 36,
   "metadata": {
    "colab": {
     "base_uri": "https://localhost:8080/"
    },
    "id": "9OQPzISzYP48",
    "outputId": "cfc8ec43-4e24-4e76-822d-727c4f2e3e34"
   },
   "outputs": [
    {
     "name": "stdout",
     "output_type": "stream",
     "text": [
      "Eres mayor de edad pero no vives en Madrid.\n",
      "Salio\n"
     ]
    }
   ],
   "source": [
    "edad = 18\n",
    "ciudad = \"Santiago\"\n",
    "\n",
    "if edad >= 18:\n",
    "  if ciudad == \"Madrid\":\n",
    "    print(\"Eres mayor de edad y vives en Madrid.\")\n",
    "  else:\n",
    "    print(\"Eres mayor de edad pero no vives en Madrid.\")\n",
    "else:\n",
    "    print(\"Eres menor de edad.\")\n",
    "print(\"Salio\")"
   ]
  },
  {
   "cell_type": "markdown",
   "metadata": {
    "id": "wcH14YG_YwAv"
   },
   "source": [
    "## Condiciones lógicas con `and` y `or`\n",
    "\n",
    "Se pueden combinar varias condiciones en un solo `if` usando los operadores lógicos `and` y `or`.\n",
    "\n",
    "- `and`: Ambas condiciones deben ser verdaderas.\n",
    "- `or`: Al menos una de las condiciones debe ser verdadera."
   ]
  },
  {
   "cell_type": "code",
   "execution_count": 39,
   "metadata": {
    "id": "rtbex0GlYzeE"
   },
   "outputs": [],
   "source": [
    "edad = 2\n",
    "trabaja = False\n",
    "\n",
    "if edad > 18 and trabaja:\n",
    "    print(\"Eres mayor de edad y tienes trabajo.\")"
   ]
  },
  {
   "cell_type": "code",
   "execution_count": 42,
   "metadata": {
    "id": "dQ-p_n98Y2cM"
   },
   "outputs": [],
   "source": [
    "ciudad = \"Buenos Aires\"\n",
    "\n",
    "if ciudad == \"Madrid\" or ciudad == \"Barcelona\":\n",
    "    print(\"Vives en una gran ciudad.\")\n"
   ]
  },
  {
   "cell_type": "markdown",
   "metadata": {
    "id": "ostwVkIIWXH7"
   },
   "source": [
    "### 3. Ciclos\n",
    "\n",
    "Los **ciclos** permiten ejecutar un bloque de código de manera repetitiva. Los ciclos más comunes en Python son `for` y `while`."
   ]
  },
  {
   "cell_type": "markdown",
   "metadata": {
    "id": "8hRCe0JccAZa"
   },
   "source": [
    "#### Ciclo For\n",
    "\n",
    "El ciclo `for` se utiliza para iterar sobre un objeto \"iterable\", como una lista, tupla, cadena, etc."
   ]
  },
  {
   "cell_type": "code",
   "execution_count": 43,
   "metadata": {
    "colab": {
     "base_uri": "https://localhost:8080/"
    },
    "id": "9G9dfNjTWZOV",
    "outputId": "5932bebd-f558-4d8b-e432-0d1b03facc44"
   },
   "outputs": [
    {
     "name": "stdout",
     "output_type": "stream",
     "text": [
      "manzana\n",
      "banana\n",
      "kiwi\n",
      "naranja\n"
     ]
    }
   ],
   "source": [
    "frutas = [\"manzana\", \"banana\", \"kiwi\", \"naranja\"]\n",
    "\n",
    "for fruta in frutas:\n",
    "    print(fruta)"
   ]
  },
  {
   "cell_type": "code",
   "execution_count": 45,
   "metadata": {
    "colab": {
     "base_uri": "https://localhost:8080/"
    },
    "id": "fQkroZ-caoax",
    "outputId": "ae78c3ff-e078-4969-f398-a1f4baf1a9d1"
   },
   "outputs": [
    {
     "name": "stdout",
     "output_type": "stream",
     "text": [
      "0\n",
      "1\n",
      "2\n",
      "3\n",
      "4\n",
      "5\n",
      "6\n",
      "7\n",
      "8\n",
      "9\n",
      "10\n",
      "11\n",
      "12\n",
      "13\n",
      "14\n",
      "15\n",
      "16\n",
      "17\n",
      "18\n",
      "19\n"
     ]
    }
   ],
   "source": [
    "for numero in range(20):\n",
    "    print(numero)"
   ]
  },
  {
   "cell_type": "markdown",
   "metadata": {
    "id": "5JT--W-iWcqe"
   },
   "source": [
    "También podemos utilizar el **ciclo for** para iterar sobre una cadena de caracteres:"
   ]
  },
  {
   "cell_type": "code",
   "execution_count": 46,
   "metadata": {
    "colab": {
     "base_uri": "https://localhost:8080/"
    },
    "id": "fLtJdChrWdNA",
    "outputId": "76ddc728-cf7d-4b6e-8568-3ec23c5c5cae"
   },
   "outputs": [
    {
     "name": "stdout",
     "output_type": "stream",
     "text": [
      "H\n",
      "o\n",
      "l\n",
      "a\n",
      ",\n",
      " \n",
      "m\n",
      "u\n",
      "n\n",
      "d\n",
      "o\n",
      "!\n"
     ]
    }
   ],
   "source": [
    "mensaje = \"Hola, mundo!\"\n",
    "\n",
    "for caracter in mensaje:\n",
    "    print(caracter)"
   ]
  },
  {
   "cell_type": "markdown",
   "metadata": {
    "id": "6ZQLmYY3WijA"
   },
   "source": [
    "Los diccionarios tienen una forma especial de recorrerse utilizando un ciclo for. Observa el siguiente bloque."
   ]
  },
  {
   "cell_type": "code",
   "execution_count": 47,
   "metadata": {
    "id": "UIpLgdrOWh7Q"
   },
   "outputs": [],
   "source": [
    "refranes = {\"Perro que ladra\": \"no muerde\",\n",
    "            \"A quien madruga\": \"Dios le ayuda\",\n",
    "            \"No dejes para mañana\": \"lo que puedas hacer hoy\"}\n"
   ]
  },
  {
   "cell_type": "code",
   "execution_count": 48,
   "metadata": {
    "colab": {
     "base_uri": "https://localhost:8080/"
    },
    "id": "kCJnATgRbdEs",
    "outputId": "1f10c373-8a58-4d44-d474-2528b009388e"
   },
   "outputs": [
    {
     "data": {
      "text/plain": [
       "dict_items([('Perro que ladra', 'no muerde'), ('A quien madruga', 'Dios le ayuda'), ('No dejes para mañana', 'lo que puedas hacer hoy')])"
      ]
     },
     "execution_count": 48,
     "metadata": {},
     "output_type": "execute_result"
    }
   ],
   "source": [
    "refranes.items()"
   ]
  },
  {
   "cell_type": "code",
   "execution_count": 49,
   "metadata": {
    "colab": {
     "base_uri": "https://localhost:8080/"
    },
    "id": "VoBV0k2xbbqk",
    "outputId": "883d0c46-f969-4db7-a6f2-e0164bb99bf3"
   },
   "outputs": [
    {
     "name": "stdout",
     "output_type": "stream",
     "text": [
      "Perro que ladra, no muerde\n",
      "A quien madruga, Dios le ayuda\n",
      "No dejes para mañana, lo que puedas hacer hoy\n"
     ]
    }
   ],
   "source": [
    "for llave, valor in refranes.items():\n",
    "    refran_completo = llave + \", \" + valor\n",
    "    print(refran_completo)"
   ]
  },
  {
   "cell_type": "markdown",
   "metadata": {
    "id": "CACsOJXgWvTz"
   },
   "source": [
    "#### Ciclo While\n",
    "\n",
    "El ciclo `while` repite un bloque de código mientras una condición sea verdadera."
   ]
  },
  {
   "cell_type": "code",
   "execution_count": 51,
   "metadata": {
    "id": "75qKBlEIWxLx"
   },
   "outputs": [],
   "source": [
    "numero = 11\n",
    "\n",
    "while numero <= 5:\n",
    "    print(numero)\n",
    "    numero = numero + 1"
   ]
  },
  {
   "cell_type": "markdown",
   "metadata": {
    "id": "paSH_mRlW0Bk"
   },
   "source": [
    "También podemos utilizar el **ciclo while** para repetir un bloque de código hasta que el usuario ingrese un valor específico. Por ejemplo:"
   ]
  },
  {
   "cell_type": "code",
   "execution_count": 53,
   "metadata": {
    "colab": {
     "base_uri": "https://localhost:8080/"
    },
    "id": "iF3kZAiWWzVR",
    "outputId": "49dcaa40-b08c-4a88-ccbe-56fc370652f9"
   },
   "outputs": [
    {
     "name": "stdout",
     "output_type": "stream",
     "text": [
      "¿Quieres finalizar? (s/n) hd\n",
      "¿Quieres finalizar? (s/n) fhf\n",
      "¿Quieres finalizar? (s/n) 56\n",
      "¿Quieres finalizar? (s/n) 4tggs\n",
      "¿Quieres finalizar? (s/n) \n",
      "¿Quieres finalizar? (s/n) s\n",
      "Fin del programa.\n"
     ]
    }
   ],
   "source": [
    "respuesta = \"\"\n",
    "\n",
    "while respuesta != \"s\":\n",
    "    respuesta = input(\"¿Quieres finalizar? (s/n) \")\n",
    "\n",
    "print(\"Fin del programa.\")"
   ]
  },
  {
   "cell_type": "markdown",
   "metadata": {
    "id": "hGKVv_ZqW6A8"
   },
   "source": [
    "Este código le pedirá al usuario que ingrese \"s\" o \"n\" para decidir si quiere finalizar o no. Mientras el usuario no ingrese \"s\", el ciclo se seguirá repitiendo. Cuando el usuario finalmente ingrese \"s\", el ciclo se detendrá y el programa imprimirá \"Fin del programa.\"."
   ]
  },
  {
   "cell_type": "markdown",
   "metadata": {
    "id": "YjSVmGqVXJ88"
   },
   "source": [
    "#### Ciclo anidados\n",
    "\n",
    "- Ejemplo 1"
   ]
  },
  {
   "cell_type": "code",
   "execution_count": 58,
   "metadata": {
    "colab": {
     "base_uri": "https://localhost:8080/"
    },
    "id": "twHNouppXMUw",
    "outputId": "a17f2ced-240f-4cde-ca9a-dfef20a533c7"
   },
   "outputs": [
    {
     "name": "stdout",
     "output_type": "stream",
     "text": [
      "La fila es \n",
      "[1, 2, 3]\n",
      "sumando el elemento\n",
      "1\n",
      "Suma parcial\n",
      "1\n",
      "sumando el elemento\n",
      "2\n",
      "Suma parcial\n",
      "3\n",
      "sumando el elemento\n",
      "3\n",
      "Suma parcial\n",
      "6\n",
      "La fila es \n",
      "[4, 5, 6]\n",
      "sumando el elemento\n",
      "4\n",
      "Suma parcial\n",
      "10\n",
      "sumando el elemento\n",
      "5\n",
      "Suma parcial\n",
      "15\n",
      "sumando el elemento\n",
      "6\n",
      "Suma parcial\n",
      "21\n",
      "La fila es \n",
      "[7, 8, 9]\n",
      "sumando el elemento\n",
      "7\n",
      "Suma parcial\n",
      "28\n",
      "sumando el elemento\n",
      "8\n",
      "Suma parcial\n",
      "36\n",
      "sumando el elemento\n",
      "9\n",
      "Suma parcial\n",
      "45\n"
     ]
    }
   ],
   "source": [
    "matriz = [[1, 2, 3], [4, 5, 6], [7, 8, 9]]\n",
    "suma = 0\n",
    "\n",
    "for fila in matriz:\n",
    "    print('La fila es ')\n",
    "    print(fila)\n",
    "    for elemento in fila:\n",
    "        print('sumando el elemento')\n",
    "        print(elemento)\n",
    "        suma += elemento\n",
    "        print('Suma parcial')\n",
    "        print(suma)"
   ]
  },
  {
   "cell_type": "markdown",
   "metadata": {
    "id": "0puoJmW-XQ50"
   },
   "source": [
    "En este ejemplo, el ciclo interno se ejecuta completamente cada vez que el ciclo externo realiza una iteración.\n",
    "\n",
    "Podemos observar que primero recorremos cada elemento de la matriz (que, a su vez, son listas).\n",
    "\n",
    "Para cada uno de estos elementos o filas, hacemos a su vez un recorrido por ellos."
   ]
  },
  {
   "cell_type": "markdown",
   "metadata": {
    "id": "WS5sXP44cpg5"
   },
   "source": [
    "- Ejemplo 2"
   ]
  },
  {
   "cell_type": "code",
   "execution_count": 61,
   "metadata": {
    "colab": {
     "base_uri": "https://localhost:8080/"
    },
    "id": "Qc_e6uuIW8Y8",
    "outputId": "c371d192-3d70-4e24-ab71-e3260fa4bce0"
   },
   "outputs": [
    {
     "name": "stdout",
     "output_type": "stream",
     "text": [
      "¿Qué acción deseas realizar?\n",
      "1. Saludar\n",
      "2. Sumar dos números\n",
      "3. Salir\n",
      "Ingrese su opción: 2\n",
      "Ingrese el primer número: 4\n",
      "Ingrese el primer número: 5\n",
      "El resultado de la suma es: 9\n",
      "¿Qué acción deseas realizar?\n",
      "1. Saludar\n",
      "2. Sumar dos números\n",
      "3. Salir\n",
      "Ingrese su opción: 3\n",
      "Adiós.\n"
     ]
    }
   ],
   "source": [
    "opcion = 0\n",
    "\n",
    "while opcion != 3:\n",
    "    print(\"¿Qué acción deseas realizar?\")\n",
    "    print(\"1. Saludar\")\n",
    "    print(\"2. Sumar dos números\")\n",
    "    print(\"3. Salir\")\n",
    "\n",
    "    opcion = int(input(\"Ingrese su opción: \"))\n",
    "\n",
    "    if opcion == 1:\n",
    "        print(\"¡Hola, mundo!\")\n",
    "    elif opcion == 2:\n",
    "        num1 = int(input(\"Ingrese el primer número: \"))\n",
    "        num2 = int(input(\"Ingrese el segundo número: \"))\n",
    "\n",
    "        print(\"El resultado de la suma es:\", num1 + num2)\n",
    "    elif opcion == 3:\n",
    "        print(\"Adiós.\")\n",
    "    else:\n",
    "        print(\"Opción inválida.\")"
   ]
  },
  {
   "cell_type": "markdown",
   "metadata": {
    "id": "e1s81vXiXHCg"
   },
   "source": [
    "En este ejemplo, el **ciclo while** se ejecuta hasta que el usuario seleccione la opción \"3\" para salir.\n",
    "\n",
    "Si el usuario selecciona la opción \"1\", el programa imprime \"¡Hola, mundo!\".\n",
    "\n",
    "Si el usuario selecciona la opción \"2\", el programa le pide al usuario que ingrese dos números separados por espacio y luego imprime el resultado de la suma.\n",
    "\n",
    "Si el usuario selecciona una opción inválida, el programa le informa al usuario que su opción es inválida y vuelve a mostrar el menú."
   ]
  },
  {
   "cell_type": "markdown",
   "metadata": {
    "id": "DMG5vsxiXTAL"
   },
   "source": [
    "#### Sentencias especiales: Break  y continue\n",
    "\n",
    "- El **`break`** termina la ejecución del ciclo antes de que termine su iteración.\n",
    "- El **`continue`** salta a la siguiente iteración sin ejecutar el resto del código en la iteración actual."
   ]
  },
  {
   "cell_type": "markdown",
   "metadata": {
    "id": "ATH202kgdCTU"
   },
   "source": [
    "- Ejemplo con `continue`"
   ]
  },
  {
   "cell_type": "code",
   "execution_count": 62,
   "metadata": {
    "colab": {
     "base_uri": "https://localhost:8080/"
    },
    "id": "hHA4eSendGTm",
    "outputId": "1325fa91-94c4-4679-afc4-65048df3baac"
   },
   "outputs": [
    {
     "name": "stdout",
     "output_type": "stream",
     "text": [
      "0\n",
      "1\n",
      "2\n",
      "4\n"
     ]
    }
   ],
   "source": [
    "for i in range(5):\n",
    "    if i == 3:\n",
    "        continue\n",
    "    print(i)"
   ]
  },
  {
   "cell_type": "markdown",
   "metadata": {
    "id": "FAR6xG3QdJ4K"
   },
   "source": [
    "Aquí, el número 3 es omitido y el ciclo continúa con la siguiente iteración."
   ]
  },
  {
   "cell_type": "code",
   "execution_count": 63,
   "metadata": {
    "colab": {
     "base_uri": "https://localhost:8080/"
    },
    "id": "4VgonC5wgMwx",
    "outputId": "75c128be-724b-4c3c-f323-285ab8aea4b7"
   },
   "outputs": [
    {
     "name": "stdout",
     "output_type": "stream",
     "text": [
      "0\n",
      "1\n",
      "2\n"
     ]
    }
   ],
   "source": [
    "for i in range(5):\n",
    "    if i == 3:\n",
    "        break\n",
    "    print(i)"
   ]
  },
  {
   "cell_type": "markdown",
   "metadata": {
    "id": "HjEZkgpzgecG"
   },
   "source": [
    "Al llegar a la itaracion 3 sale por completo del ciclo."
   ]
  },
  {
   "cell_type": "markdown",
   "metadata": {
    "id": "-OHLYh0Pc7AH"
   },
   "source": [
    "- Ejemplo Break\n",
    "\n",
    "Queremos que el programa le solicite una contraseña al usuario, con un máximo de 3 intentos (luego de los cuales se bloquea). Podemos implementar esto de la siguiente manera:"
   ]
  },
  {
   "cell_type": "code",
   "execution_count": 66,
   "metadata": {
    "colab": {
     "base_uri": "https://localhost:8080/"
    },
    "id": "H336l1yuXaLK",
    "outputId": "dd6c29d0-87a9-4ef1-de0b-e8beb60f783c"
   },
   "outputs": [
    {
     "name": "stdout",
     "output_type": "stream",
     "text": [
      "Ingrese contraseña: nikn\n",
      "Contraseña incorrecta. Le quedan 2 intentos\n",
      "Ingrese contraseña: adivina\n",
      "¡Acceso permitido!\n"
     ]
    }
   ],
   "source": [
    "password=\"adivina\"\n",
    "intentos = 0\n",
    "\n",
    "while intentos < 3:\n",
    "    respuesta = input(\"Ingrese contraseña: \")\n",
    "    intentos+=1\n",
    "    restantes=3-intentos\n",
    "    if respuesta != password and restantes !=0:\n",
    "        print(\"Contraseña incorrecta. Le quedan \"+str(restantes)+\" intentos\")\n",
    "    else:\n",
    "        break\n",
    "\n",
    "if respuesta == password:\n",
    "    print(\"¡Acceso permitido!\")\n",
    "else:\n",
    "    print(\"Acceso denegado\")"
   ]
  },
  {
   "cell_type": "markdown",
   "metadata": {
    "id": "LetY318d1pAw"
   },
   "source": [
    "## Actividad 1: Condicionales"
   ]
  },
  {
   "cell_type": "markdown",
   "metadata": {
    "id": "xQHgAv-kUxpO"
   },
   "source": [
    "Crea un programa que le pregunte al usuario la temperatura actual en grados Celsius y luego realice lo siguiente:\n",
    "\n",
    "- Si la temperatura es mayor o igual a 30, imprime \"Hace calor. Recuerda mantenerte hidratado.\"\n",
    "- Si la temperatura está entre 20 y 29 grados, imprime \"El clima es agradable.\"\n",
    "- Si la temperatura está entre 10 y 19 grados, imprime \"Hace un poco de frío. Tal vez quieras un abrigo.\"\n",
    "- Si la temperatura es menor a 10 grados, imprime \"Hace frío. Viste suficiente ropa abrigada.\""
   ]
  },
  {
   "cell_type": "markdown",
   "metadata": {
    "id": "1dbd40ee"
   },
   "source": [
    "## Actividad 2: Estructuras de control"
   ]
  },
  {
   "cell_type": "markdown",
   "metadata": {
    "id": "-IXneL-SgVKo"
   },
   "source": [
    "#### Números Descendentes\n",
    "\n",
    "Escribe un programa que pida al usuario un número entero y muestre los números desde ese número hasta 1."
   ]
  },
  {
   "cell_type": "markdown",
   "metadata": {
    "id": "ec19fba2"
   },
   "source": [
    "#### Tabla de multiplicar\n",
    "\n",
    "Crea un programa que imprima la tabla de multiplicar de un número ingresado por el usuario."
   ]
  },
  {
   "cell_type": "markdown",
   "metadata": {
    "id": "M2B1SRsVg56u"
   },
   "source": [
    "#### Factorial\n",
    "\n",
    "Calcula el factorial de un número."
   ]
  },
  {
   "cell_type": "markdown",
   "metadata": {
    "id": "e5498f36"
   },
   "source": [
    "#### Números primos\n",
    "\n",
    "Desarrolla un programa que verifique si un número ingresado por el usuario es primo."
   ]
  }
 ],
 "metadata": {
  "colab": {
   "provenance": []
  },
  "kernelspec": {
   "display_name": "Python 3 (ipykernel)",
   "language": "python",
   "name": "python3"
  },
  "language_info": {
   "codemirror_mode": {
    "name": "ipython",
    "version": 3
   },
   "file_extension": ".py",
   "mimetype": "text/x-python",
   "name": "python",
   "nbconvert_exporter": "python",
   "pygments_lexer": "ipython3",
   "version": "3.12.7"
  }
 },
 "nbformat": 4,
 "nbformat_minor": 4
}
